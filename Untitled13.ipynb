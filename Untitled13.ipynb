{
  "nbformat": 4,
  "nbformat_minor": 0,
  "metadata": {
    "colab": {
      "provenance": [],
      "authorship_tag": "ABX9TyMM3wqXxKALihIamna0rvd9",
      "include_colab_link": true
    },
    "kernelspec": {
      "name": "python3",
      "display_name": "Python 3"
    },
    "language_info": {
      "name": "python"
    }
  },
  "cells": [
    {
      "cell_type": "markdown",
      "metadata": {
        "id": "view-in-github",
        "colab_type": "text"
      },
      "source": [
        "<a href=\"https://colab.research.google.com/github/Thahira8/assesmnt/blob/main/Untitled13.ipynb\" target=\"_parent\"><img src=\"https://colab.research.google.com/assets/colab-badge.svg\" alt=\"Open In Colab\"/></a>"
      ]
    },
    {
      "cell_type": "code",
      "execution_count": 1,
      "metadata": {
        "id": "65xlfAQ1BPM3"
      },
      "outputs": [],
      "source": [
        "#1\n",
        "import pandas as pd\n",
        "import numpy as np"
      ]
    },
    {
      "cell_type": "code",
      "source": [
        "#2\n",
        "df= pd.read_csv(\"https://raw.githubusercontent.com/laxmimerit/All-CSV-ML-Data-Files-Download/master/IMDB-Movie-Data.csv\")"
      ],
      "metadata": {
        "id": "7JEdXmTQBgbz"
      },
      "execution_count": 2,
      "outputs": []
    },
    {
      "cell_type": "code",
      "source": [
        "#3\n",
        "print(df.shape)"
      ],
      "metadata": {
        "colab": {
          "base_uri": "https://localhost:8080/"
        },
        "id": "qw4YEyuJCXKD",
        "outputId": "f07ac0fe-574f-4dc6-8060-6e67ce9649b3"
      },
      "execution_count": 4,
      "outputs": [
        {
          "output_type": "stream",
          "name": "stdout",
          "text": [
            "(1000, 12)\n"
          ]
        }
      ]
    },
    {
      "cell_type": "code",
      "source": [
        "print(df.head)"
      ],
      "metadata": {
        "colab": {
          "base_uri": "https://localhost:8080/"
        },
        "id": "WLcIxVeFCmc-",
        "outputId": "d4220475-feff-4c16-e9fa-80a1e87d5197"
      },
      "execution_count": 7,
      "outputs": [
        {
          "output_type": "stream",
          "name": "stdout",
          "text": [
            "<bound method NDFrame.head of      Rank                    Title                     Genre  \\\n",
            "0       1  Guardians of the Galaxy   Action,Adventure,Sci-Fi   \n",
            "1       2               Prometheus  Adventure,Mystery,Sci-Fi   \n",
            "2       3                    Split           Horror,Thriller   \n",
            "3       4                     Sing   Animation,Comedy,Family   \n",
            "4       5            Suicide Squad  Action,Adventure,Fantasy   \n",
            "..    ...                      ...                       ...   \n",
            "995   996     Secret in Their Eyes       Crime,Drama,Mystery   \n",
            "996   997          Hostel: Part II                    Horror   \n",
            "997   998   Step Up 2: The Streets       Drama,Music,Romance   \n",
            "998   999             Search Party          Adventure,Comedy   \n",
            "999  1000               Nine Lives     Comedy,Family,Fantasy   \n",
            "\n",
            "                                           Description              Director  \\\n",
            "0    A group of intergalactic criminals are forced ...            James Gunn   \n",
            "1    Following clues to the origin of mankind, a te...          Ridley Scott   \n",
            "2    Three girls are kidnapped by a man with a diag...    M. Night Shyamalan   \n",
            "3    In a city of humanoid animals, a hustling thea...  Christophe Lourdelet   \n",
            "4    A secret government agency recruits some of th...            David Ayer   \n",
            "..                                                 ...                   ...   \n",
            "995  A tight-knit team of rising investigators, alo...             Billy Ray   \n",
            "996  Three American college students studying abroa...              Eli Roth   \n",
            "997  Romantic sparks occur between two dance studen...            Jon M. Chu   \n",
            "998  A pair of friends embark on a mission to reuni...        Scot Armstrong   \n",
            "999  A stuffy businessman finds himself trapped ins...      Barry Sonnenfeld   \n",
            "\n",
            "                                                Actors  Year  \\\n",
            "0    Chris Pratt, Vin Diesel, Bradley Cooper, Zoe S...  2014   \n",
            "1    Noomi Rapace, Logan Marshall-Green, Michael Fa...  2012   \n",
            "2    James McAvoy, Anya Taylor-Joy, Haley Lu Richar...  2016   \n",
            "3    Matthew McConaughey,Reese Witherspoon, Seth Ma...  2016   \n",
            "4    Will Smith, Jared Leto, Margot Robbie, Viola D...  2016   \n",
            "..                                                 ...   ...   \n",
            "995  Chiwetel Ejiofor, Nicole Kidman, Julia Roberts...  2015   \n",
            "996  Lauren German, Heather Matarazzo, Bijou Philli...  2007   \n",
            "997  Robert Hoffman, Briana Evigan, Cassie Ventura,...  2008   \n",
            "998  Adam Pally, T.J. Miller, Thomas Middleditch,Sh...  2014   \n",
            "999  Kevin Spacey, Jennifer Garner, Robbie Amell,Ch...  2016   \n",
            "\n",
            "     Runtime (Minutes)  Rating   Votes  Revenue (Millions)  Metascore  \n",
            "0                  121     8.1  757074              333.13       76.0  \n",
            "1                  124     7.0  485820              126.46       65.0  \n",
            "2                  117     7.3  157606              138.12       62.0  \n",
            "3                  108     7.2   60545              270.32       59.0  \n",
            "4                  123     6.2  393727              325.02       40.0  \n",
            "..                 ...     ...     ...                 ...        ...  \n",
            "995                111     6.2   27585                 NaN       45.0  \n",
            "996                 94     5.5   73152               17.54       46.0  \n",
            "997                 98     6.2   70699               58.01       50.0  \n",
            "998                 93     5.6    4881                 NaN       22.0  \n",
            "999                 87     5.3   12435               19.64       11.0  \n",
            "\n",
            "[1000 rows x 12 columns]>\n"
          ]
        }
      ]
    },
    {
      "cell_type": "code",
      "source": [
        "print(df.columns)\n",
        "print(df.dtypes)\n",
        "print(df.isnull().sum())"
      ],
      "metadata": {
        "colab": {
          "base_uri": "https://localhost:8080/"
        },
        "id": "JBONRZiZCvnf",
        "outputId": "b7e46ae7-32b4-4769-a0a7-cccf40ad6ba4"
      },
      "execution_count": 6,
      "outputs": [
        {
          "output_type": "stream",
          "name": "stdout",
          "text": [
            "Index(['Rank', 'Title', 'Genre', 'Description', 'Director', 'Actors', 'Year',\n",
            "       'Runtime (Minutes)', 'Rating', 'Votes', 'Revenue (Millions)',\n",
            "       'Metascore'],\n",
            "      dtype='object')\n",
            "Rank                    int64\n",
            "Title                  object\n",
            "Genre                  object\n",
            "Description            object\n",
            "Director               object\n",
            "Actors                 object\n",
            "Year                    int64\n",
            "Runtime (Minutes)       int64\n",
            "Rating                float64\n",
            "Votes                   int64\n",
            "Revenue (Millions)    float64\n",
            "Metascore             float64\n",
            "dtype: object\n",
            "Rank                    0\n",
            "Title                   0\n",
            "Genre                   0\n",
            "Description             0\n",
            "Director                0\n",
            "Actors                  0\n",
            "Year                    0\n",
            "Runtime (Minutes)       0\n",
            "Rating                  0\n",
            "Votes                   0\n",
            "Revenue (Millions)    128\n",
            "Metascore              64\n",
            "dtype: int64\n"
          ]
        }
      ]
    },
    {
      "cell_type": "code",
      "source": [
        "#4\n",
        "df=df.drop_duplicates()\n",
        "print(df)"
      ],
      "metadata": {
        "colab": {
          "base_uri": "https://localhost:8080/"
        },
        "id": "tkLH23wMDLRB",
        "outputId": "4e85e6f8-3309-43c5-b14a-5619fb6ff050"
      },
      "execution_count": 8,
      "outputs": [
        {
          "output_type": "stream",
          "name": "stdout",
          "text": [
            "     Rank                    Title                     Genre  \\\n",
            "0       1  Guardians of the Galaxy   Action,Adventure,Sci-Fi   \n",
            "1       2               Prometheus  Adventure,Mystery,Sci-Fi   \n",
            "2       3                    Split           Horror,Thriller   \n",
            "3       4                     Sing   Animation,Comedy,Family   \n",
            "4       5            Suicide Squad  Action,Adventure,Fantasy   \n",
            "..    ...                      ...                       ...   \n",
            "995   996     Secret in Their Eyes       Crime,Drama,Mystery   \n",
            "996   997          Hostel: Part II                    Horror   \n",
            "997   998   Step Up 2: The Streets       Drama,Music,Romance   \n",
            "998   999             Search Party          Adventure,Comedy   \n",
            "999  1000               Nine Lives     Comedy,Family,Fantasy   \n",
            "\n",
            "                                           Description              Director  \\\n",
            "0    A group of intergalactic criminals are forced ...            James Gunn   \n",
            "1    Following clues to the origin of mankind, a te...          Ridley Scott   \n",
            "2    Three girls are kidnapped by a man with a diag...    M. Night Shyamalan   \n",
            "3    In a city of humanoid animals, a hustling thea...  Christophe Lourdelet   \n",
            "4    A secret government agency recruits some of th...            David Ayer   \n",
            "..                                                 ...                   ...   \n",
            "995  A tight-knit team of rising investigators, alo...             Billy Ray   \n",
            "996  Three American college students studying abroa...              Eli Roth   \n",
            "997  Romantic sparks occur between two dance studen...            Jon M. Chu   \n",
            "998  A pair of friends embark on a mission to reuni...        Scot Armstrong   \n",
            "999  A stuffy businessman finds himself trapped ins...      Barry Sonnenfeld   \n",
            "\n",
            "                                                Actors  Year  \\\n",
            "0    Chris Pratt, Vin Diesel, Bradley Cooper, Zoe S...  2014   \n",
            "1    Noomi Rapace, Logan Marshall-Green, Michael Fa...  2012   \n",
            "2    James McAvoy, Anya Taylor-Joy, Haley Lu Richar...  2016   \n",
            "3    Matthew McConaughey,Reese Witherspoon, Seth Ma...  2016   \n",
            "4    Will Smith, Jared Leto, Margot Robbie, Viola D...  2016   \n",
            "..                                                 ...   ...   \n",
            "995  Chiwetel Ejiofor, Nicole Kidman, Julia Roberts...  2015   \n",
            "996  Lauren German, Heather Matarazzo, Bijou Philli...  2007   \n",
            "997  Robert Hoffman, Briana Evigan, Cassie Ventura,...  2008   \n",
            "998  Adam Pally, T.J. Miller, Thomas Middleditch,Sh...  2014   \n",
            "999  Kevin Spacey, Jennifer Garner, Robbie Amell,Ch...  2016   \n",
            "\n",
            "     Runtime (Minutes)  Rating   Votes  Revenue (Millions)  Metascore  \n",
            "0                  121     8.1  757074              333.13       76.0  \n",
            "1                  124     7.0  485820              126.46       65.0  \n",
            "2                  117     7.3  157606              138.12       62.0  \n",
            "3                  108     7.2   60545              270.32       59.0  \n",
            "4                  123     6.2  393727              325.02       40.0  \n",
            "..                 ...     ...     ...                 ...        ...  \n",
            "995                111     6.2   27585                 NaN       45.0  \n",
            "996                 94     5.5   73152               17.54       46.0  \n",
            "997                 98     6.2   70699               58.01       50.0  \n",
            "998                 93     5.6    4881                 NaN       22.0  \n",
            "999                 87     5.3   12435               19.64       11.0  \n",
            "\n",
            "[1000 rows x 12 columns]\n"
          ]
        }
      ]
    },
    {
      "cell_type": "code",
      "source": [
        "#5\n",
        "da=df.rename(columns={\"Title\":\"Movies_Title\"})\n",
        "print(da)"
      ],
      "metadata": {
        "colab": {
          "base_uri": "https://localhost:8080/"
        },
        "id": "VNbkQJXNDa84",
        "outputId": "729f5ece-578d-4407-d16e-06f76488b350"
      },
      "execution_count": 9,
      "outputs": [
        {
          "output_type": "stream",
          "name": "stdout",
          "text": [
            "     Rank             Movies_Title                     Genre  \\\n",
            "0       1  Guardians of the Galaxy   Action,Adventure,Sci-Fi   \n",
            "1       2               Prometheus  Adventure,Mystery,Sci-Fi   \n",
            "2       3                    Split           Horror,Thriller   \n",
            "3       4                     Sing   Animation,Comedy,Family   \n",
            "4       5            Suicide Squad  Action,Adventure,Fantasy   \n",
            "..    ...                      ...                       ...   \n",
            "995   996     Secret in Their Eyes       Crime,Drama,Mystery   \n",
            "996   997          Hostel: Part II                    Horror   \n",
            "997   998   Step Up 2: The Streets       Drama,Music,Romance   \n",
            "998   999             Search Party          Adventure,Comedy   \n",
            "999  1000               Nine Lives     Comedy,Family,Fantasy   \n",
            "\n",
            "                                           Description              Director  \\\n",
            "0    A group of intergalactic criminals are forced ...            James Gunn   \n",
            "1    Following clues to the origin of mankind, a te...          Ridley Scott   \n",
            "2    Three girls are kidnapped by a man with a diag...    M. Night Shyamalan   \n",
            "3    In a city of humanoid animals, a hustling thea...  Christophe Lourdelet   \n",
            "4    A secret government agency recruits some of th...            David Ayer   \n",
            "..                                                 ...                   ...   \n",
            "995  A tight-knit team of rising investigators, alo...             Billy Ray   \n",
            "996  Three American college students studying abroa...              Eli Roth   \n",
            "997  Romantic sparks occur between two dance studen...            Jon M. Chu   \n",
            "998  A pair of friends embark on a mission to reuni...        Scot Armstrong   \n",
            "999  A stuffy businessman finds himself trapped ins...      Barry Sonnenfeld   \n",
            "\n",
            "                                                Actors  Year  \\\n",
            "0    Chris Pratt, Vin Diesel, Bradley Cooper, Zoe S...  2014   \n",
            "1    Noomi Rapace, Logan Marshall-Green, Michael Fa...  2012   \n",
            "2    James McAvoy, Anya Taylor-Joy, Haley Lu Richar...  2016   \n",
            "3    Matthew McConaughey,Reese Witherspoon, Seth Ma...  2016   \n",
            "4    Will Smith, Jared Leto, Margot Robbie, Viola D...  2016   \n",
            "..                                                 ...   ...   \n",
            "995  Chiwetel Ejiofor, Nicole Kidman, Julia Roberts...  2015   \n",
            "996  Lauren German, Heather Matarazzo, Bijou Philli...  2007   \n",
            "997  Robert Hoffman, Briana Evigan, Cassie Ventura,...  2008   \n",
            "998  Adam Pally, T.J. Miller, Thomas Middleditch,Sh...  2014   \n",
            "999  Kevin Spacey, Jennifer Garner, Robbie Amell,Ch...  2016   \n",
            "\n",
            "     Runtime (Minutes)  Rating   Votes  Revenue (Millions)  Metascore  \n",
            "0                  121     8.1  757074              333.13       76.0  \n",
            "1                  124     7.0  485820              126.46       65.0  \n",
            "2                  117     7.3  157606              138.12       62.0  \n",
            "3                  108     7.2   60545              270.32       59.0  \n",
            "4                  123     6.2  393727              325.02       40.0  \n",
            "..                 ...     ...     ...                 ...        ...  \n",
            "995                111     6.2   27585                 NaN       45.0  \n",
            "996                 94     5.5   73152               17.54       46.0  \n",
            "997                 98     6.2   70699               58.01       50.0  \n",
            "998                 93     5.6    4881                 NaN       22.0  \n",
            "999                 87     5.3   12435               19.64       11.0  \n",
            "\n",
            "[1000 rows x 12 columns]\n"
          ]
        }
      ]
    },
    {
      "cell_type": "code",
      "source": [
        "#6\n",
        "unique_genres=df[\"Genre\"].unique()\n",
        "print(unique_genres)"
      ],
      "metadata": {
        "colab": {
          "base_uri": "https://localhost:8080/"
        },
        "id": "UvQpDbC5DoQH",
        "outputId": "0583e784-3160-4880-b068-84947f0e99e4"
      },
      "execution_count": 10,
      "outputs": [
        {
          "output_type": "stream",
          "name": "stdout",
          "text": [
            "['Action,Adventure,Sci-Fi' 'Adventure,Mystery,Sci-Fi' 'Horror,Thriller'\n",
            " 'Animation,Comedy,Family' 'Action,Adventure,Fantasy' 'Comedy,Drama,Music'\n",
            " 'Comedy' 'Action,Adventure,Biography' 'Adventure,Drama,Romance'\n",
            " 'Adventure,Family,Fantasy' 'Biography,Drama,History'\n",
            " 'Animation,Adventure,Comedy' 'Action,Comedy,Drama' 'Action,Thriller'\n",
            " 'Biography,Drama' 'Drama,Mystery,Sci-Fi' 'Adventure,Drama,Thriller'\n",
            " 'Drama' 'Crime,Drama,Horror' 'Action,Adventure,Drama' 'Drama,Thriller'\n",
            " 'Action,Adventure,Comedy' 'Action,Horror,Sci-Fi' 'Adventure,Drama,Sci-Fi'\n",
            " 'Action,Adventure,Western' 'Comedy,Drama' 'Horror'\n",
            " 'Adventure,Drama,Fantasy' 'Action,Crime,Thriller' 'Action,Crime,Drama'\n",
            " 'Adventure,Drama,History' 'Crime,Horror,Thriller' 'Drama,Romance'\n",
            " 'Comedy,Drama,Romance' 'Horror,Mystery,Thriller' 'Crime,Drama,Mystery'\n",
            " 'Drama,Romance,Thriller' 'Drama,History,Thriller' 'Action,Drama,Thriller'\n",
            " 'Drama,History' 'Action,Drama,Romance' 'Drama,Fantasy' 'Action,Sci-Fi'\n",
            " 'Adventure,Drama,War' 'Action,Comedy,Fantasy' 'Biography,Comedy,Crime'\n",
            " 'Crime,Drama' 'Comedy,Crime,Drama' 'Action,Comedy,Crime'\n",
            " 'Animation,Drama,Fantasy' 'Horror,Mystery,Sci-Fi'\n",
            " 'Drama,Mystery,Thriller' 'Crime,Drama,Thriller' 'Biography,Crime,Drama'\n",
            " 'Crime,Mystery,Thriller' 'Action,Horror,Thriller' 'Romance,Sci-Fi'\n",
            " 'Action,Fantasy,War' 'Action,Biography,Drama' 'Drama,Horror,Mystery'\n",
            " 'Adventure,Drama,Family' 'Adventure,Comedy,Romance' 'Action'\n",
            " 'Adventure,Crime,Mystery' 'Comedy,Family,Musical'\n",
            " 'Adventure,Comedy,Drama' 'Drama,Horror,Thriller' 'Drama,Music'\n",
            " 'Mystery,Thriller' 'Mystery,Thriller,Western' 'Comedy,Family'\n",
            " 'Biography,Comedy,Drama' 'Drama,Western' 'Drama,Mystery,Romance'\n",
            " 'Action,Drama,Mystery' 'Action,Adventure,Crime'\n",
            " 'Adventure,Sci-Fi,Thriller' 'Action,Comedy,Mystery' 'Thriller,War'\n",
            " 'Action,Adventure,Thriller' 'Drama,Fantasy,Romance'\n",
            " 'Action,Drama,History' 'Animation,Adventure,Family' 'Adventure,Horror'\n",
            " 'Drama,Romance,Sci-Fi' 'Action,Adventure,Family' 'Action,Comedy'\n",
            " 'Comedy,Romance' 'Horror,Mystery' 'Drama,Family,Fantasy' 'Sci-Fi'\n",
            " 'Drama,War' 'Drama,Fantasy,Horror' 'Crime,Drama,History'\n",
            " 'Horror,Sci-Fi,Thriller' 'Action,Drama,Sport' 'Adventure,Biography,Drama'\n",
            " 'Biography,Drama,Thriller' 'Action,Adventure,Mystery' 'Drama,Horror'\n",
            " 'Comedy,Crime' 'Drama,Fantasy,War' 'Action,Adventure,Romance'\n",
            " 'Action,Drama,War' 'Drama,Musical,Romance' 'Drama,Sci-Fi,Thriller'\n",
            " 'Action,Drama,Sci-Fi' 'Drama,Sci-Fi' 'Adventure,Fantasy' 'Thriller'\n",
            " 'Biography,Drama,Romance' 'Action,Adventure' 'Action,Fantasy'\n",
            " 'Action,Drama,Horror' 'Comedy,Music,Romance' 'Biography,Drama,Sport'\n",
            " 'Action,Horror' 'Comedy,Horror,Thriller' 'Crime,Drama,Music'\n",
            " 'Action,Sci-Fi,Thriller' 'Drama,Horror,Sci-Fi' 'Drama,Sport'\n",
            " 'Comedy,Horror' 'Comedy,Fantasy,Romance' 'Comedy,Fantasy'\n",
            " 'Comedy,Drama,Fantasy' 'Adventure,Comedy,Horror' 'Comedy,Mystery'\n",
            " 'Action,Mystery,Sci-Fi' 'Action,Crime,Fantasy' 'Comedy,Fantasy,Horror'\n",
            " 'Animation,Action,Adventure' 'Action,Comedy,Family' 'Comedy,Sci-Fi'\n",
            " 'Action,Biography,Crime' 'Adventure,Comedy' 'Comedy,Music'\n",
            " 'Comedy,Drama,Horror' 'Action,Horror,Romance' 'Action,Drama,Fantasy'\n",
            " 'Action,Mystery,Thriller' 'Action,Adventure,Horror'\n",
            " 'Animation,Family,Fantasy' 'Adventure,Horror,Mystery'\n",
            " 'Action,Horror,Mystery' 'Adventure,Comedy,Family' 'Action,Crime,Mystery'\n",
            " 'Comedy,Drama,Family' 'Action,Crime,Sport' 'Mystery,Sci-Fi,Thriller'\n",
            " 'Sci-Fi,Thriller' 'Adventure,Drama,Horror' 'Biography,History,Thriller'\n",
            " 'Adventure,Comedy,Sci-Fi' 'Fantasy,Horror' 'Action,Fantasy,Thriller'\n",
            " 'Comedy,Romance,Sport' 'Animation,Action,Comedy' 'Drama,Fantasy,Thriller'\n",
            " 'Action,Comedy,Romance' 'Action,Fantasy,Horror' 'Mystery,Romance,Sci-Fi'\n",
            " 'Comedy,Drama,Thriller' 'Comedy,Western' 'Drama,History,War'\n",
            " 'Fantasy,Horror,Thriller' 'Drama,Horror,Musical' 'Drama,Family'\n",
            " 'Romance,Sci-Fi,Thriller' 'Animation,Fantasy' 'Drama,Mystery,War'\n",
            " 'Action,Drama,Family' 'Adventure,Drama,Western' 'Drama,Music,Romance'\n",
            " 'Comedy,Romance,Western' 'Adventure,Drama' 'Drama,Thriller,War'\n",
            " 'Drama,Fantasy,Mystery' 'Comedy,Crime,Thriller' 'Animation,Comedy,Drama'\n",
            " 'Action,Comedy,Sci-Fi' 'Drama,Romance,War' 'Adventure,Fantasy,Mystery'\n",
            " 'Mystery,Romance,Thriller' 'Biography,Drama,Mystery'\n",
            " 'Animation,Drama,Romance' 'Comedy,Horror,Romance' 'Action,Thriller,War'\n",
            " 'Action,Comedy,Horror' 'Action,Crime,Sci-Fi' 'Crime,Thriller'\n",
            " 'Comedy,Horror,Sci-Fi' 'Crime,Drama,Fantasy' 'Drama,Fantasy,Music'\n",
            " 'Action,Comedy,Sport' 'Fantasy,Mystery,Thriller' 'Adventure'\n",
            " 'Adventure,Biography' 'Adventure,Biography,Crime' 'Comedy,Drama,Musical'\n",
            " 'Comedy,Family,Romance' 'Biography,Drama,Family' 'Drama,Fantasy,Musical'\n",
            " 'Adventure,Family' 'Adventure,Comedy,Fantasy' 'Drama,Family,Music'\n",
            " 'Comedy,Family,Fantasy']\n"
          ]
        }
      ]
    },
    {
      "cell_type": "code",
      "source": [
        "#7\n",
        "df['Num_Genres']=df['Genre'].apply(lambda x:len(x.split(',')))\n",
        "print(df['Num_Genres'])"
      ],
      "metadata": {
        "colab": {
          "base_uri": "https://localhost:8080/"
        },
        "id": "cOx78Mf1D0Om",
        "outputId": "1d0440e2-09f7-4f4e-cd46-d399f20fe910"
      },
      "execution_count": 11,
      "outputs": [
        {
          "output_type": "stream",
          "name": "stdout",
          "text": [
            "0      3\n",
            "1      3\n",
            "2      2\n",
            "3      3\n",
            "4      3\n",
            "      ..\n",
            "995    3\n",
            "996    1\n",
            "997    3\n",
            "998    2\n",
            "999    3\n",
            "Name: Num_Genres, Length: 1000, dtype: int64\n"
          ]
        }
      ]
    },
    {
      "cell_type": "code",
      "source": [
        "#8\n",
        "df['Revenue (Millions)'] =df['Revenue (Millions)'].fillna(df['Revenue (Millions)'].mean())\n",
        "df['Metascore'] =df['Metascore'].fillna(df['Metascore'].mean())\n",
        "print(df['Revenue (Millions)'])\n",
        "print(df['Metascore'])"
      ],
      "metadata": {
        "colab": {
          "base_uri": "https://localhost:8080/"
        },
        "id": "BVg8LXfpD60Z",
        "outputId": "57d4a249-6a4e-48c8-bc20-e3d8591043fb"
      },
      "execution_count": 12,
      "outputs": [
        {
          "output_type": "stream",
          "name": "stdout",
          "text": [
            "0      333.130000\n",
            "1      126.460000\n",
            "2      138.120000\n",
            "3      270.320000\n",
            "4      325.020000\n",
            "          ...    \n",
            "995     82.956376\n",
            "996     17.540000\n",
            "997     58.010000\n",
            "998     82.956376\n",
            "999     19.640000\n",
            "Name: Revenue (Millions), Length: 1000, dtype: float64\n",
            "0      76.0\n",
            "1      65.0\n",
            "2      62.0\n",
            "3      59.0\n",
            "4      40.0\n",
            "       ... \n",
            "995    45.0\n",
            "996    46.0\n",
            "997    50.0\n",
            "998    22.0\n",
            "999    11.0\n",
            "Name: Metascore, Length: 1000, dtype: float64\n"
          ]
        }
      ]
    },
    {
      "cell_type": "code",
      "source": [
        "#9\n",
        "top5_ratings=da.nlargest(5,'Rating')\n",
        "print(top5_ratings[['Movies_Title','Rating']])"
      ],
      "metadata": {
        "colab": {
          "base_uri": "https://localhost:8080/"
        },
        "id": "TXhH60CkEBL2",
        "outputId": "8bb1233c-d445-4f7c-c40b-d97632d31de7"
      },
      "execution_count": 13,
      "outputs": [
        {
          "output_type": "stream",
          "name": "stdout",
          "text": [
            "        Movies_Title  Rating\n",
            "54   The Dark Knight     9.0\n",
            "80         Inception     8.8\n",
            "117           Dangal     8.8\n",
            "36      Interstellar     8.6\n",
            "96     Kimi no na wa     8.6\n"
          ]
        }
      ]
    },
    {
      "cell_type": "code",
      "source": [
        "#10\n",
        "highest_revenue=df.loc[df['Revenue (Millions)'].idxmax()]\n",
        "lowest_revenue=df.loc[df['Revenue (Millions)'].idxmin()]\n",
        "print(highest_revenue)\n",
        "print(lowest_revenue)"
      ],
      "metadata": {
        "colab": {
          "base_uri": "https://localhost:8080/"
        },
        "id": "2whdBjEGEIZM",
        "outputId": "f3435dd2-499b-4cc8-ac7f-707f84ecb695"
      },
      "execution_count": 14,
      "outputs": [
        {
          "output_type": "stream",
          "name": "stdout",
          "text": [
            "Rank                                                                 51\n",
            "Title                        Star Wars: Episode VII - The Force Awakens\n",
            "Genre                                          Action,Adventure,Fantasy\n",
            "Description           Three decades after the defeat of the Galactic...\n",
            "Director                                                    J.J. Abrams\n",
            "Actors                Daisy Ridley, John Boyega, Oscar Isaac, Domhna...\n",
            "Year                                                               2015\n",
            "Runtime (Minutes)                                                   136\n",
            "Rating                                                              8.1\n",
            "Votes                                                            661608\n",
            "Revenue (Millions)                                               936.63\n",
            "Metascore                                                          81.0\n",
            "Num_Genres                                                            3\n",
            "Name: 50, dtype: object\n",
            "Rank                                                                232\n",
            "Title                                                  A Kind of Murder\n",
            "Genre                                              Crime,Drama,Thriller\n",
            "Description           In 1960s New York, Walter Stackhouse is a succ...\n",
            "Director                                                   Andy Goddard\n",
            "Actors                Patrick Wilson, Jessica Biel, Haley Bennett, V...\n",
            "Year                                                               2016\n",
            "Runtime (Minutes)                                                    95\n",
            "Rating                                                              5.2\n",
            "Votes                                                              3305\n",
            "Revenue (Millions)                                                  0.0\n",
            "Metascore                                                          50.0\n",
            "Num_Genres                                                            3\n",
            "Name: 231, dtype: object\n"
          ]
        }
      ]
    },
    {
      "cell_type": "code",
      "source": [
        "#11\n",
        "avg_rating = df.groupby('Director')['Rating'].mean()\n",
        "print(avg_rating)"
      ],
      "metadata": {
        "colab": {
          "base_uri": "https://localhost:8080/"
        },
        "id": "SwCgqVxUEgxi",
        "outputId": "e59f0f9f-b6b8-4446-8570-e2a3b2a2b2fe"
      },
      "execution_count": 15,
      "outputs": [
        {
          "output_type": "stream",
          "name": "stdout",
          "text": [
            "Director\n",
            "Aamir Khan             8.50\n",
            "Abdellatif Kechiche    7.80\n",
            "Adam Leon              6.50\n",
            "Adam McKay             7.00\n",
            "Adam Shankman          6.30\n",
            "                       ... \n",
            "Xavier Dolan           7.55\n",
            "Yimou Zhang            6.10\n",
            "Yorgos Lanthimos       7.20\n",
            "Zack Snyder            7.04\n",
            "Zackary Adler          5.10\n",
            "Name: Rating, Length: 644, dtype: float64\n"
          ]
        }
      ]
    },
    {
      "cell_type": "code",
      "source": [
        "#12\n",
        "movies_per_year = df['Year'].value_counts().sort_index()\n",
        "print(movies_per_year)"
      ],
      "metadata": {
        "colab": {
          "base_uri": "https://localhost:8080/"
        },
        "id": "ZqruR0dIEpds",
        "outputId": "b3ef46d4-5735-44da-a39a-3f64b24b8c7b"
      },
      "execution_count": 16,
      "outputs": [
        {
          "output_type": "stream",
          "name": "stdout",
          "text": [
            "Year\n",
            "2006     44\n",
            "2007     53\n",
            "2008     52\n",
            "2009     51\n",
            "2010     60\n",
            "2011     63\n",
            "2012     64\n",
            "2013     91\n",
            "2014     98\n",
            "2015    127\n",
            "2016    297\n",
            "Name: count, dtype: int64\n"
          ]
        }
      ]
    },
    {
      "cell_type": "code",
      "source": [
        "#13\n",
        "high_rating_revenue = df[(df['Rating'] > 8) & (df['Revenue (Millions)'] > 100)]\n",
        "print(high_rating_revenue)"
      ],
      "metadata": {
        "colab": {
          "base_uri": "https://localhost:8080/"
        },
        "id": "ijmCzQO_FGnh",
        "outputId": "f527ec24-b693-4dfb-c456-33442479ceeb"
      },
      "execution_count": 17,
      "outputs": [
        {
          "output_type": "stream",
          "name": "stdout",
          "text": [
            "     Rank                                         Title  \\\n",
            "0       1                       Guardians of the Galaxy   \n",
            "6       7                                    La La Land   \n",
            "36     37                                  Interstellar   \n",
            "50     51    Star Wars: Episode VII - The Force Awakens   \n",
            "54     55                               The Dark Knight   \n",
            "67     68                            Mad Max: Fury Road   \n",
            "74     75                                      Zootopia   \n",
            "76     77                                  The Avengers   \n",
            "77     78                          Inglourious Basterds   \n",
            "80     81                                     Inception   \n",
            "82     83                       The Wolf of Wall Street   \n",
            "83     84                                     Gone Girl   \n",
            "92     93                                      The Help   \n",
            "99    100                                  The Departed   \n",
            "114   115  Harry Potter and the Deathly Hallows: Part 2   \n",
            "124   125                         The Dark Knight Rises   \n",
            "138   139                                Shutter Island   \n",
            "144   145                              Django Unchained   \n",
            "241   242                                    Inside Out   \n",
            "427   428                          The Bourne Ultimatum   \n",
            "499   500                                            Up   \n",
            "634   635                                        WALL·E   \n",
            "645   646                                   Gran Torino   \n",
            "688   689                                   Toy Story 3   \n",
            "772   773                      How to Train Your Dragon   \n",
            "\n",
            "                          Genre  \\\n",
            "0       Action,Adventure,Sci-Fi   \n",
            "6            Comedy,Drama,Music   \n",
            "36       Adventure,Drama,Sci-Fi   \n",
            "50     Action,Adventure,Fantasy   \n",
            "54           Action,Crime,Drama   \n",
            "67      Action,Adventure,Sci-Fi   \n",
            "74   Animation,Adventure,Comedy   \n",
            "76                Action,Sci-Fi   \n",
            "77          Adventure,Drama,War   \n",
            "80      Action,Adventure,Sci-Fi   \n",
            "82       Biography,Comedy,Crime   \n",
            "83          Crime,Drama,Mystery   \n",
            "92                        Drama   \n",
            "99         Crime,Drama,Thriller   \n",
            "114     Adventure,Drama,Fantasy   \n",
            "124             Action,Thriller   \n",
            "138            Mystery,Thriller   \n",
            "144               Drama,Western   \n",
            "241  Animation,Adventure,Comedy   \n",
            "427     Action,Mystery,Thriller   \n",
            "499  Animation,Adventure,Comedy   \n",
            "634  Animation,Adventure,Family   \n",
            "645                       Drama   \n",
            "688  Animation,Adventure,Comedy   \n",
            "772  Animation,Action,Adventure   \n",
            "\n",
            "                                           Description           Director  \\\n",
            "0    A group of intergalactic criminals are forced ...         James Gunn   \n",
            "6    A jazz pianist falls for an aspiring actress i...    Damien Chazelle   \n",
            "36   A team of explorers travel through a wormhole ...  Christopher Nolan   \n",
            "50   Three decades after the defeat of the Galactic...        J.J. Abrams   \n",
            "54   When the menace known as the Joker wreaks havo...  Christopher Nolan   \n",
            "67   A woman rebels against a tyrannical ruler in p...      George Miller   \n",
            "74   In a city of anthropomorphic animals, a rookie...       Byron Howard   \n",
            "76   Earth's mightiest heroes must come together an...        Joss Whedon   \n",
            "77   In Nazi-occupied France during World War II, a...  Quentin Tarantino   \n",
            "80   A thief, who steals corporate secrets through ...  Christopher Nolan   \n",
            "82   Based on the true story of Jordan Belfort, fro...    Martin Scorsese   \n",
            "83   With his wife's disappearance having become th...      David Fincher   \n",
            "92   An aspiring author during the civil rights mov...        Tate Taylor   \n",
            "99   An undercover cop and a mole in the police att...    Martin Scorsese   \n",
            "114  Harry, Ron and Hermione search for Voldemort's...        David Yates   \n",
            "124  Eight years after the Joker's reign of anarchy...  Christopher Nolan   \n",
            "138  In 1954, a U.S. marshal investigates the disap...    Martin Scorsese   \n",
            "144  With the help of a German bounty hunter , a fr...  Quentin Tarantino   \n",
            "241  After young Riley is uprooted from her Midwest...        Pete Docter   \n",
            "427  Jason Bourne dodges a ruthless CIA official an...    Paul Greengrass   \n",
            "499  Seventy-eight year old Carl Fredricksen travel...        Pete Docter   \n",
            "634  In the distant future, a small waste-collectin...     Andrew Stanton   \n",
            "645  Disgruntled Korean War veteran Walt Kowalski s...     Clint Eastwood   \n",
            "688  The toys are mistakenly delivered to a day-car...        Lee Unkrich   \n",
            "772  A hapless young Viking who aspires to hunt dra...       Dean DeBlois   \n",
            "\n",
            "                                                Actors  Year  \\\n",
            "0    Chris Pratt, Vin Diesel, Bradley Cooper, Zoe S...  2014   \n",
            "6    Ryan Gosling, Emma Stone, Rosemarie DeWitt, J....  2016   \n",
            "36   Matthew McConaughey, Anne Hathaway, Jessica Ch...  2014   \n",
            "50   Daisy Ridley, John Boyega, Oscar Isaac, Domhna...  2015   \n",
            "54   Christian Bale, Heath Ledger, Aaron Eckhart,Mi...  2008   \n",
            "67   Tom Hardy, Charlize Theron, Nicholas Hoult, Zo...  2015   \n",
            "74   Ginnifer Goodwin, Jason Bateman, Idris Elba, J...  2016   \n",
            "76   Robert Downey Jr., Chris Evans, Scarlett Johan...  2012   \n",
            "77   Brad Pitt, Diane Kruger, Eli Roth,Mélanie Laurent  2009   \n",
            "80   Leonardo DiCaprio, Joseph Gordon-Levitt, Ellen...  2010   \n",
            "82   Leonardo DiCaprio, Jonah Hill, Margot Robbie,M...  2013   \n",
            "83   Ben Affleck, Rosamund Pike, Neil Patrick Harri...  2014   \n",
            "92   Emma Stone, Viola Davis, Octavia Spencer, Bryc...  2011   \n",
            "99   Leonardo DiCaprio, Matt Damon, Jack Nicholson,...  2006   \n",
            "114  Daniel Radcliffe, Emma Watson, Rupert Grint, M...  2011   \n",
            "124  Christian Bale, Tom Hardy, Anne Hathaway,Gary ...  2012   \n",
            "138  Leonardo DiCaprio, Emily Mortimer, Mark Ruffal...  2010   \n",
            "144  Jamie Foxx, Christoph Waltz, Leonardo DiCaprio...  2012   \n",
            "241  Amy Poehler, Bill Hader, Lewis Black, Mindy Ka...  2015   \n",
            "427  Matt Damon, Edgar Ramírez, Joan Allen, Julia S...  2007   \n",
            "499  Edward Asner, Jordan Nagai, John Ratzenberger,...  2009   \n",
            "634  Ben Burtt, Elissa Knight, Jeff Garlin, Fred Wi...  2008   \n",
            "645  Clint Eastwood, Bee Vang, Christopher Carley,A...  2008   \n",
            "688      Tom Hanks, Tim Allen, Joan Cusack, Ned Beatty  2010   \n",
            "772  Jay Baruchel, Gerard Butler,Christopher Mintz-...  2010   \n",
            "\n",
            "     Runtime (Minutes)  Rating    Votes  Revenue (Millions)  Metascore  \\\n",
            "0                  121     8.1   757074              333.13  76.000000   \n",
            "6                  128     8.3   258682              151.06  93.000000   \n",
            "36                 169     8.6  1047747              187.99  74.000000   \n",
            "50                 136     8.1   661608              936.63  81.000000   \n",
            "54                 152     9.0  1791916              533.32  82.000000   \n",
            "67                 120     8.1   632842              153.63  90.000000   \n",
            "74                 108     8.1   296853              341.26  78.000000   \n",
            "76                 143     8.1  1045588              623.28  69.000000   \n",
            "77                 153     8.3   959065              120.52  69.000000   \n",
            "80                 148     8.8  1583625              292.57  74.000000   \n",
            "82                 180     8.2   865134              116.87  75.000000   \n",
            "83                 149     8.1   636243              167.74  79.000000   \n",
            "92                 146     8.1   342429              169.71  62.000000   \n",
            "99                 151     8.5   937414              132.37  85.000000   \n",
            "114                130     8.1   590595              380.96  87.000000   \n",
            "124                164     8.5  1222645              448.13  78.000000   \n",
            "138                138     8.1   855604              127.97  63.000000   \n",
            "144                165     8.4  1039115              162.80  81.000000   \n",
            "241                 95     8.2   416689              356.45  94.000000   \n",
            "427                115     8.1   525700              227.14  85.000000   \n",
            "499                 96     8.3   722203              292.98  88.000000   \n",
            "634                 98     8.4   776897              223.81  58.985043   \n",
            "645                116     8.2   595779              148.09  58.985043   \n",
            "688                103     8.3   586669              414.98  92.000000   \n",
            "772                 98     8.1   523893              217.39  74.000000   \n",
            "\n",
            "     Num_Genres  \n",
            "0             3  \n",
            "6             3  \n",
            "36            3  \n",
            "50            3  \n",
            "54            3  \n",
            "67            3  \n",
            "74            3  \n",
            "76            2  \n",
            "77            3  \n",
            "80            3  \n",
            "82            3  \n",
            "83            3  \n",
            "92            1  \n",
            "99            3  \n",
            "114           3  \n",
            "124           2  \n",
            "138           2  \n",
            "144           2  \n",
            "241           3  \n",
            "427           3  \n",
            "499           3  \n",
            "634           3  \n",
            "645           1  \n",
            "688           3  \n",
            "772           3  \n"
          ]
        }
      ]
    },
    {
      "cell_type": "code",
      "source": [
        "#14\n",
        "director_group = df.groupby('Director').agg({'Rating': 'mean', 'Revenue (Millions)': 'mean'}).reset_index()\n",
        "print(director_group)"
      ],
      "metadata": {
        "colab": {
          "base_uri": "https://localhost:8080/"
        },
        "id": "q9-BkD-VFWTS",
        "outputId": "3dbd0edb-5d23-41fc-bc02-3ea723c1e16a"
      },
      "execution_count": 18,
      "outputs": [
        {
          "output_type": "stream",
          "name": "stdout",
          "text": [
            "                Director  Rating  Revenue (Millions)\n",
            "0             Aamir Khan    8.50            1.200000\n",
            "1    Abdellatif Kechiche    7.80            2.200000\n",
            "2              Adam Leon    6.50           82.956376\n",
            "3             Adam McKay    7.00          109.535000\n",
            "4          Adam Shankman    6.30           78.665000\n",
            "..                   ...     ...                 ...\n",
            "639         Xavier Dolan    7.55           43.223188\n",
            "640          Yimou Zhang    6.10           45.130000\n",
            "641     Yorgos Lanthimos    7.20            4.405000\n",
            "642          Zack Snyder    7.04          195.148000\n",
            "643        Zackary Adler    5.10            6.530000\n",
            "\n",
            "[644 rows x 3 columns]\n"
          ]
        }
      ]
    },
    {
      "cell_type": "code",
      "source": [
        "#15\n",
        "year_group = da.groupby('Year').agg({'Movies_Title': 'count', 'Rating': 'mean'}).reset_index()\n",
        "year_group = year_group.rename(columns={'Movies_Title': 'Count'})\n",
        "print(year_group)\n"
      ],
      "metadata": {
        "colab": {
          "base_uri": "https://localhost:8080/"
        },
        "id": "tIUSgvKAFc2y",
        "outputId": "6fd073ea-7133-4647-a7a9-7eecdbdc512b"
      },
      "execution_count": 19,
      "outputs": [
        {
          "output_type": "stream",
          "name": "stdout",
          "text": [
            "    Year  Count    Rating\n",
            "0   2006     44  7.125000\n",
            "1   2007     53  7.133962\n",
            "2   2008     52  6.784615\n",
            "3   2009     51  6.960784\n",
            "4   2010     60  6.826667\n",
            "5   2011     63  6.838095\n",
            "6   2012     64  6.925000\n",
            "7   2013     91  6.812088\n",
            "8   2014     98  6.837755\n",
            "9   2015    127  6.602362\n",
            "10  2016    297  6.436700\n"
          ]
        }
      ]
    },
    {
      "cell_type": "code",
      "source": [
        "#16\n",
        "df['profitability']=df['Revenue (Millions)']/df['Runtime (Minutes)']\n",
        "top10_profitable=df.nlargest(10,'profitability')\n",
        "print(top10_profitable)\n",
        "print(df['profitability'])"
      ],
      "metadata": {
        "colab": {
          "base_uri": "https://localhost:8080/"
        },
        "id": "rAnhC2SLFjhU",
        "outputId": "b82e1eec-960a-459b-8baa-0520923b9197"
      },
      "execution_count": 20,
      "outputs": [
        {
          "output_type": "stream",
          "name": "stdout",
          "text": [
            "     Rank                                       Title  \\\n",
            "50     51  Star Wars: Episode VII - The Force Awakens   \n",
            "85     86                              Jurassic World   \n",
            "119   120                                Finding Dory   \n",
            "87     88                                      Avatar   \n",
            "76     77                                The Avengers   \n",
            "15     16                     The Secret Life of Pets   \n",
            "688   689                                 Toy Story 3   \n",
            "12     13                                   Rogue One   \n",
            "174   175                                      Frozen   \n",
            "797   798                             Despicable Me 2   \n",
            "\n",
            "                          Genre  \\\n",
            "50     Action,Adventure,Fantasy   \n",
            "85      Action,Adventure,Sci-Fi   \n",
            "119  Animation,Adventure,Comedy   \n",
            "87     Action,Adventure,Fantasy   \n",
            "76                Action,Sci-Fi   \n",
            "15   Animation,Adventure,Comedy   \n",
            "688  Animation,Adventure,Comedy   \n",
            "12      Action,Adventure,Sci-Fi   \n",
            "174  Animation,Adventure,Comedy   \n",
            "797  Animation,Adventure,Comedy   \n",
            "\n",
            "                                           Description         Director  \\\n",
            "50   Three decades after the defeat of the Galactic...      J.J. Abrams   \n",
            "85   A new theme park, built on the original site o...  Colin Trevorrow   \n",
            "119  The friendly but forgetful blue tang fish, Dor...   Andrew Stanton   \n",
            "87   A paraplegic marine dispatched to the moon Pan...    James Cameron   \n",
            "76   Earth's mightiest heroes must come together an...      Joss Whedon   \n",
            "15   The quiet life of a terrier named Max is upend...     Chris Renaud   \n",
            "688  The toys are mistakenly delivered to a day-car...      Lee Unkrich   \n",
            "12   The Rebel Alliance makes a risky move to steal...   Gareth Edwards   \n",
            "174  When the newly crowned Queen Elsa accidentally...       Chris Buck   \n",
            "797  When Gru, the world's most super-bad turned su...    Pierre Coffin   \n",
            "\n",
            "                                                Actors  Year  \\\n",
            "50   Daisy Ridley, John Boyega, Oscar Isaac, Domhna...  2015   \n",
            "85   Chris Pratt, Bryce Dallas Howard, Ty Simpkins,...  2015   \n",
            "119  Ellen DeGeneres, Albert Brooks,Ed O'Neill, Kai...  2016   \n",
            "87   Sam Worthington, Zoe Saldana, Sigourney Weaver...  2009   \n",
            "76   Robert Downey Jr., Chris Evans, Scarlett Johan...  2012   \n",
            "15   Louis C.K., Eric Stonestreet, Kevin Hart, Lake...  2016   \n",
            "688      Tom Hanks, Tim Allen, Joan Cusack, Ned Beatty  2010   \n",
            "12   Felicity Jones, Diego Luna, Alan Tudyk, Donnie...  2016   \n",
            "174  Kristen Bell, Idina Menzel, Jonathan Groff, Jo...  2013   \n",
            "797  Steve Carell, Kristen Wiig, Benjamin Bratt, Mi...  2013   \n",
            "\n",
            "     Runtime (Minutes)  Rating    Votes  Revenue (Millions)  Metascore  \\\n",
            "50                 136     8.1   661608              936.63       81.0   \n",
            "85                 124     7.0   455169              652.18       59.0   \n",
            "119                 97     7.4   157026              486.29       77.0   \n",
            "87                 162     7.8   935408              760.51       83.0   \n",
            "76                 143     8.1  1045588              623.28       69.0   \n",
            "15                  87     6.6   120259              368.31       61.0   \n",
            "688                103     8.3   586669              414.98       92.0   \n",
            "12                 133     7.9   323118              532.17       65.0   \n",
            "174                102     7.5   451894              400.74       74.0   \n",
            "797                 98     7.4   304837              368.05       62.0   \n",
            "\n",
            "     Num_Genres  profitability  \n",
            "50            3       6.886985  \n",
            "85            3       5.259516  \n",
            "119           3       5.013299  \n",
            "87            3       4.694506  \n",
            "76            2       4.358601  \n",
            "15            3       4.233448  \n",
            "688           3       4.028932  \n",
            "12            3       4.001278  \n",
            "174           3       3.928824  \n",
            "797           3       3.755612  \n",
            "0      2.753140\n",
            "1      1.019839\n",
            "2      1.180513\n",
            "3      2.502963\n",
            "4      2.642439\n",
            "         ...   \n",
            "995    0.747355\n",
            "996    0.186596\n",
            "997    0.591939\n",
            "998    0.892004\n",
            "999    0.225747\n",
            "Name: profitability, Length: 1000, dtype: float64\n"
          ]
        }
      ]
    },
    {
      "cell_type": "code",
      "source": [
        "#17\n",
        "def categorize_rating(rating):\n",
        "    if rating < 6:\n",
        "        return 'Poor'\n",
        "    elif 6 <= rating < 7.5:\n",
        "        return 'Average'\n",
        "    else:\n",
        "        return 'Excellent'\n",
        "\n",
        "df['Rating_Category'] = df['Rating'].apply(categorize_rating)\n",
        "print(df['Rating_Category'])\n"
      ],
      "metadata": {
        "colab": {
          "base_uri": "https://localhost:8080/"
        },
        "id": "9dB5azS8FpI0",
        "outputId": "6d1ebc35-8c80-44d8-f1fd-b84b95296937"
      },
      "execution_count": 21,
      "outputs": [
        {
          "output_type": "stream",
          "name": "stdout",
          "text": [
            "0      Excellent\n",
            "1        Average\n",
            "2        Average\n",
            "3        Average\n",
            "4        Average\n",
            "         ...    \n",
            "995      Average\n",
            "996         Poor\n",
            "997      Average\n",
            "998         Poor\n",
            "999         Poor\n",
            "Name: Rating_Category, Length: 1000, dtype: object\n"
          ]
        }
      ]
    },
    {
      "cell_type": "code",
      "source": [
        "#18\n",
        "import pandas as pd\n",
        "data = {\n",
        "    'Rating': [7.5, 8.2, 6.9],\n",
        "    'Revenue (Millions)': [100, 250, 80]\n",
        "}\n",
        "df = pd.DataFrame(data)\n",
        "def score_movie(row):\n",
        "    return row['Rating'] * 10 + row['Revenue (Millions)']\n",
        "df['High_Score'] = df.apply(score_movie, axis=1)\n",
        "display(df['High_Score'])\n"
      ],
      "metadata": {
        "colab": {
          "base_uri": "https://localhost:8080/",
          "height": 178
        },
        "id": "dNeT3mhEF21H",
        "outputId": "eadf3282-8082-4855-f8e2-186e36951e12"
      },
      "execution_count": 22,
      "outputs": [
        {
          "output_type": "display_data",
          "data": {
            "text/plain": [
              "0    175.0\n",
              "1    332.0\n",
              "2    149.0\n",
              "Name: High_Score, dtype: float64"
            ],
            "text/html": [
              "<div>\n",
              "<style scoped>\n",
              "    .dataframe tbody tr th:only-of-type {\n",
              "        vertical-align: middle;\n",
              "    }\n",
              "\n",
              "    .dataframe tbody tr th {\n",
              "        vertical-align: top;\n",
              "    }\n",
              "\n",
              "    .dataframe thead th {\n",
              "        text-align: right;\n",
              "    }\n",
              "</style>\n",
              "<table border=\"1\" class=\"dataframe\">\n",
              "  <thead>\n",
              "    <tr style=\"text-align: right;\">\n",
              "      <th></th>\n",
              "      <th>High_Score</th>\n",
              "    </tr>\n",
              "  </thead>\n",
              "  <tbody>\n",
              "    <tr>\n",
              "      <th>0</th>\n",
              "      <td>175.0</td>\n",
              "    </tr>\n",
              "    <tr>\n",
              "      <th>1</th>\n",
              "      <td>332.0</td>\n",
              "    </tr>\n",
              "    <tr>\n",
              "      <th>2</th>\n",
              "      <td>149.0</td>\n",
              "    </tr>\n",
              "  </tbody>\n",
              "</table>\n",
              "</div><br><label><b>dtype:</b> float64</label>"
            ]
          },
          "metadata": {}
        }
      ]
    },
    {
      "cell_type": "code",
      "source": [],
      "metadata": {
        "id": "8ht2MPOYF8bL"
      },
      "execution_count": null,
      "outputs": []
    }
  ]
}
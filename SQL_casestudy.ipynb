{
  "nbformat": 4,
  "nbformat_minor": 0,
  "metadata": {
    "colab": {
      "provenance": [],
      "authorship_tag": "ABX9TyOEhA2+rfLYwqHKCxoM2YRZ",
      "include_colab_link": true
    },
    "kernelspec": {
      "name": "python3",
      "display_name": "Python 3"
    },
    "language_info": {
      "name": "python"
    }
  },
  "cells": [
    {
      "cell_type": "markdown",
      "metadata": {
        "id": "view-in-github",
        "colab_type": "text"
      },
      "source": [
        "<a href=\"https://colab.research.google.com/github/Thahira8/assesmnt/blob/main/SQL_casestudy.ipynb\" target=\"_parent\"><img src=\"https://colab.research.google.com/assets/colab-badge.svg\" alt=\"Open In Colab\"/></a>"
      ]
    },
    {
      "cell_type": "markdown",
      "source": [
        "Case Study on SQL"
      ],
      "metadata": {
        "id": "cIgo18K8Kt8e"
      }
    },
    {
      "cell_type": "code",
      "source": [
        "import sqlite3\n",
        "import pandas as pd"
      ],
      "metadata": {
        "id": "nDtCJy91K2Yq"
      },
      "execution_count": 18,
      "outputs": []
    },
    {
      "cell_type": "code",
      "source": [
        "def load_imdb_database(db_path):\n",
        "  try:\n",
        "    conn = sqlite3.connect(db_path)\n",
        "    print(\"IMDB database loaded successfully.\")\n",
        "    return conn\n",
        "  except sqlite3.Error as e:\n",
        "    print(f\"Error loading IMDB database: {e}\")\n",
        "    return None"
      ],
      "metadata": {
        "id": "c9KYkBRfLCiY"
      },
      "execution_count": 19,
      "outputs": []
    },
    {
      "cell_type": "code",
      "source": [
        "db_path = \"/imdb (1).db\"\n",
        "conn = load_imdb_database(db_path)\n",
        "\n",
        "if conn:\n",
        "  print(\"Connection successful\")\n",
        "  cursor = conn.cursor()"
      ],
      "metadata": {
        "colab": {
          "base_uri": "https://localhost:8080/"
        },
        "id": "9qgI8OxoLUtg",
        "outputId": "bf532d8c-3a1f-439a-d9be-cd18e5d6817b"
      },
      "execution_count": 24,
      "outputs": [
        {
          "output_type": "stream",
          "name": "stdout",
          "text": [
            "IMDB database loaded successfully.\n",
            "Connection successful\n"
          ]
        }
      ]
    },
    {
      "cell_type": "markdown",
      "source": [
        "Following is the schema of the IMDB database. It lists all tables and their schemas."
      ],
      "metadata": {
        "id": "0GlWYqWeL1ti"
      }
    },
    {
      "cell_type": "code",
      "source": [
        "cursor.execute(\"SELECT name FROM sqlite_master WHERE type='table';\")\n",
        "tables = cursor.fetchall()\n",
        "\n",
        "print(\"Database Schema:\")\n",
        "for table in tables:\n",
        "    table_name = table[0]\n",
        "    print(f\"\\nTable: {table_name}\")\n",
        "\n",
        "    cursor.execute(f\"PRAGMA table_info({table_name});\")\n",
        "    schema = cursor.fetchall()\n",
        "\n",
        "    print(\"Columns:\")\n",
        "    for column in schema:\n",
        "        cid, name, dtype, notnull, dflt_value, pk = column\n",
        "        print(f\"  - {name} ({dtype}), NOT NULL: {bool(notnull)}, Default: {dflt_value}, Primary Key: {bool(pk)}\")"
      ],
      "metadata": {
        "colab": {
          "base_uri": "https://localhost:8080/"
        },
        "id": "q9gcAX1LL5Xp",
        "outputId": "e821f278-48bc-4dcd-a71b-456c4f67d308"
      },
      "execution_count": 25,
      "outputs": [
        {
          "output_type": "stream",
          "name": "stdout",
          "text": [
            "Database Schema:\n",
            "\n",
            "Table: Movie\n",
            "Columns:\n",
            "  - index (INTEGER), NOT NULL: False, Default: None, Primary Key: False\n",
            "  - MID (TEXT), NOT NULL: False, Default: None, Primary Key: False\n",
            "  - title (TEXT), NOT NULL: False, Default: None, Primary Key: False\n",
            "  - year (TEXT), NOT NULL: False, Default: None, Primary Key: False\n",
            "  - rating (REAL), NOT NULL: False, Default: None, Primary Key: False\n",
            "  - num_votes (INTEGER), NOT NULL: False, Default: None, Primary Key: False\n",
            "\n",
            "Table: Genre\n",
            "Columns:\n",
            "  - index (INTEGER), NOT NULL: False, Default: None, Primary Key: False\n",
            "  - Name (TEXT), NOT NULL: False, Default: None, Primary Key: False\n",
            "  - GID (INTEGER), NOT NULL: False, Default: None, Primary Key: False\n",
            "\n",
            "Table: Language\n",
            "Columns:\n",
            "  - index (INTEGER), NOT NULL: False, Default: None, Primary Key: False\n",
            "  - Name (TEXT), NOT NULL: False, Default: None, Primary Key: False\n",
            "  - LAID (INTEGER), NOT NULL: False, Default: None, Primary Key: False\n",
            "\n",
            "Table: Country\n",
            "Columns:\n",
            "  - index (INTEGER), NOT NULL: False, Default: None, Primary Key: False\n",
            "  - Name (TEXT), NOT NULL: False, Default: None, Primary Key: False\n",
            "  - CID (INTEGER), NOT NULL: False, Default: None, Primary Key: False\n",
            "\n",
            "Table: Location\n",
            "Columns:\n",
            "  - index (INTEGER), NOT NULL: False, Default: None, Primary Key: False\n",
            "  - Name (TEXT), NOT NULL: False, Default: None, Primary Key: False\n",
            "  - LID (INTEGER), NOT NULL: False, Default: None, Primary Key: False\n",
            "\n",
            "Table: M_Location\n",
            "Columns:\n",
            "  - index (INTEGER), NOT NULL: False, Default: None, Primary Key: False\n",
            "  - MID (TEXT), NOT NULL: False, Default: None, Primary Key: False\n",
            "  - LID (REAL), NOT NULL: False, Default: None, Primary Key: False\n",
            "  - ID (INTEGER), NOT NULL: False, Default: None, Primary Key: False\n",
            "\n",
            "Table: M_Country\n",
            "Columns:\n",
            "  - index (INTEGER), NOT NULL: False, Default: None, Primary Key: False\n",
            "  - MID (TEXT), NOT NULL: False, Default: None, Primary Key: False\n",
            "  - CID (REAL), NOT NULL: False, Default: None, Primary Key: False\n",
            "  - ID (INTEGER), NOT NULL: False, Default: None, Primary Key: False\n",
            "\n",
            "Table: M_Language\n",
            "Columns:\n",
            "  - index (INTEGER), NOT NULL: False, Default: None, Primary Key: False\n",
            "  - MID (TEXT), NOT NULL: False, Default: None, Primary Key: False\n",
            "  - LAID (INTEGER), NOT NULL: False, Default: None, Primary Key: False\n",
            "  - ID (INTEGER), NOT NULL: False, Default: None, Primary Key: False\n",
            "\n",
            "Table: M_Genre\n",
            "Columns:\n",
            "  - index (INTEGER), NOT NULL: False, Default: None, Primary Key: False\n",
            "  - MID (TEXT), NOT NULL: False, Default: None, Primary Key: False\n",
            "  - GID (INTEGER), NOT NULL: False, Default: None, Primary Key: False\n",
            "  - ID (INTEGER), NOT NULL: False, Default: None, Primary Key: False\n",
            "\n",
            "Table: Person\n",
            "Columns:\n",
            "  - index (INTEGER), NOT NULL: False, Default: None, Primary Key: False\n",
            "  - PID (TEXT), NOT NULL: False, Default: None, Primary Key: False\n",
            "  - Name (TEXT), NOT NULL: False, Default: None, Primary Key: False\n",
            "  - Gender (TEXT), NOT NULL: False, Default: None, Primary Key: False\n",
            "\n",
            "Table: M_Producer\n",
            "Columns:\n",
            "  - index (INTEGER), NOT NULL: False, Default: None, Primary Key: False\n",
            "  - MID (TEXT), NOT NULL: False, Default: None, Primary Key: False\n",
            "  - PID (TEXT), NOT NULL: False, Default: None, Primary Key: False\n",
            "  - ID (INTEGER), NOT NULL: False, Default: None, Primary Key: False\n",
            "\n",
            "Table: M_Director\n",
            "Columns:\n",
            "  - index (INTEGER), NOT NULL: False, Default: None, Primary Key: False\n",
            "  - MID (TEXT), NOT NULL: False, Default: None, Primary Key: False\n",
            "  - PID (TEXT), NOT NULL: False, Default: None, Primary Key: False\n",
            "  - ID (INTEGER), NOT NULL: False, Default: None, Primary Key: False\n",
            "\n",
            "Table: M_Cast\n",
            "Columns:\n",
            "  - index (INTEGER), NOT NULL: False, Default: None, Primary Key: False\n",
            "  - MID (TEXT), NOT NULL: False, Default: None, Primary Key: False\n",
            "  - PID (TEXT), NOT NULL: False, Default: None, Primary Key: False\n",
            "  - ID (INTEGER), NOT NULL: False, Default: None, Primary Key: False\n"
          ]
        }
      ]
    },
    {
      "cell_type": "markdown",
      "source": [
        "# Write SQL queries for the following questions"
      ],
      "metadata": {
        "id": "IwhYejtDMUwl"
      }
    },
    {
      "cell_type": "markdown",
      "source": [
        "# 1. Write query to list first 5 rows of Person table"
      ],
      "metadata": {
        "id": "WE4YwOgvMhVA"
      }
    },
    {
      "cell_type": "code",
      "source": [
        "q1 = \"\"\"SELECT * FROM person LIMIT 5;\"\"\"   #its a dbms query"
      ],
      "metadata": {
        "id": "rzDOOuV9MbRz"
      },
      "execution_count": 26,
      "outputs": []
    },
    {
      "cell_type": "code",
      "source": [
        "def q1_grader(q1):\n",
        "  result = pd.read_sql_query(q1, conn)\n",
        "  return result.shape == (5, 4)\n",
        "print(q1_grader(q1))"
      ],
      "metadata": {
        "colab": {
          "base_uri": "https://localhost:8080/"
        },
        "id": "bM-iIWK4MzCo",
        "outputId": "78054fbe-98a5-4ae3-fa0e-60eed904f301"
      },
      "execution_count": 27,
      "outputs": [
        {
          "output_type": "stream",
          "name": "stdout",
          "text": [
            "True\n"
          ]
        }
      ]
    },
    {
      "cell_type": "markdown",
      "source": [
        "2. Write query to select title, year and rating from Movie table\n",
        "\n"
      ],
      "metadata": {
        "id": "Cph07mYBNMI1"
      }
    },
    {
      "cell_type": "code",
      "source": [
        "q2 = \"\"\"SELECT title,year,rating FROM movie;\"\"\""
      ],
      "metadata": {
        "id": "9dWtfh2INOd6"
      },
      "execution_count": 28,
      "outputs": []
    },
    {
      "cell_type": "code",
      "source": [
        "def q2_grader(q2):\n",
        "  result = pd.read_sql_query(q2, conn)\n",
        "  return result.shape == (3473, 3) and result['title'][0]=='Mowgli'\n",
        "print(q2_grader(q2))"
      ],
      "metadata": {
        "colab": {
          "base_uri": "https://localhost:8080/"
        },
        "id": "Ndy3eLd5RctE",
        "outputId": "408aaf91-1ea7-466f-b8b1-2d8f533403eb"
      },
      "execution_count": 29,
      "outputs": [
        {
          "output_type": "stream",
          "name": "stdout",
          "text": [
            "True\n"
          ]
        }
      ]
    },
    {
      "cell_type": "markdown",
      "source": [
        "# 3. Write query to get title of first movie in movie table sorted by year in ascending order\n"
      ],
      "metadata": {
        "id": "CyOX5EtOR7bs"
      }
    },
    {
      "cell_type": "code",
      "source": [
        "q3 = \"\"\"SELECT title FROM movie ORDER BY year ASC LIMIT 1;\"\"\""
      ],
      "metadata": {
        "id": "l3fqmzenRqy3"
      },
      "execution_count": 30,
      "outputs": []
    },
    {
      "cell_type": "code",
      "source": [
        "def q3_grader(q3):\n",
        "  result = pd.read_sql_query(q3, conn)\n",
        "  return result['title']=='Alam Ara'\n",
        "print(q3_grader(q3))"
      ],
      "metadata": {
        "colab": {
          "base_uri": "https://localhost:8080/"
        },
        "id": "71s5NvzYSRL7",
        "outputId": "37d67a25-eff5-48bf-becd-9707e555302e"
      },
      "execution_count": 31,
      "outputs": [
        {
          "output_type": "stream",
          "name": "stdout",
          "text": [
            "0    True\n",
            "Name: title, dtype: bool\n"
          ]
        }
      ]
    },
    {
      "cell_type": "markdown",
      "source": [
        "# 4. Write query to get the very first year in which Devdas movie was released"
      ],
      "metadata": {
        "id": "qWTUTmROSbpS"
      }
    },
    {
      "cell_type": "code",
      "source": [
        "q4 = \"\"\"SELECT year FROM movie WHERE title='Devdas' ORDER BY year ASC LIMIT 1;\"\"\""
      ],
      "metadata": {
        "id": "jpdlSnIwSV6I"
      },
      "execution_count": 32,
      "outputs": []
    },
    {
      "cell_type": "code",
      "source": [
        "def q4_grader(q4):\n",
        "  result = pd.read_sql_query(q4, conn)\n",
        "  return result['year']=='1936'\n",
        "print(q4_grader(q4))"
      ],
      "metadata": {
        "colab": {
          "base_uri": "https://localhost:8080/"
        },
        "id": "bFtCd2ylSmI-",
        "outputId": "4f2c17c3-4aa2-41fe-d32f-150c6c5778a3"
      },
      "execution_count": 33,
      "outputs": [
        {
          "output_type": "stream",
          "name": "stdout",
          "text": [
            "0    True\n",
            "Name: year, dtype: bool\n"
          ]
        }
      ]
    },
    {
      "cell_type": "markdown",
      "source": [
        "# 5. Write query to get the number of movies released in 2018"
      ],
      "metadata": {
        "id": "T-kx8cKcSwii"
      }
    },
    {
      "cell_type": "code",
      "source": [
        "q5 = \"\"\"SELECT COUNT(*) FROM movie WHERE year='2018';\"\"\""
      ],
      "metadata": {
        "id": "kQ5jKyDQSqA0"
      },
      "execution_count": 34,
      "outputs": []
    },
    {
      "cell_type": "code",
      "source": [
        "def q5_grader(q5):\n",
        "  result = pd.read_sql_query(q5, conn)\n",
        "  return result.iloc[0, 0] == 93\n",
        "print(q5_grader(q5))"
      ],
      "metadata": {
        "colab": {
          "base_uri": "https://localhost:8080/"
        },
        "id": "xkUfH7BoS9ic",
        "outputId": "f2c08752-ce93-407a-84fc-ecf0d675c312"
      },
      "execution_count": 35,
      "outputs": [
        {
          "output_type": "stream",
          "name": "stdout",
          "text": [
            "True\n"
          ]
        }
      ]
    },
    {
      "cell_type": "markdown",
      "source": [
        "# 6. Write query to get the title of the movie with most number of votes in 2012\n"
      ],
      "metadata": {
        "id": "4oSDuQJ2TGQ-"
      }
    },
    {
      "cell_type": "code",
      "source": [
        "q6 = \"\"\"SELECT title FROM movie WHERE year='2012' ORDER BY num_votes DESC LIMIT 1;\"\"\""
      ],
      "metadata": {
        "id": "wacdE4cyTBii"
      },
      "execution_count": 36,
      "outputs": []
    },
    {
      "cell_type": "code",
      "source": [
        "def q6_grader(q6):\n",
        "  result = pd.read_sql_query(q6, conn)\n",
        "  return result[\"title\"]==\"The Avengers\"\n",
        "print(q6_grader(q6))"
      ],
      "metadata": {
        "colab": {
          "base_uri": "https://localhost:8080/"
        },
        "id": "1bn8xKOyTQnw",
        "outputId": "f70c7a05-d968-42a1-bbf8-8ddfd7e4b3e1"
      },
      "execution_count": 37,
      "outputs": [
        {
          "output_type": "stream",
          "name": "stdout",
          "text": [
            "0    True\n",
            "Name: title, dtype: bool\n"
          ]
        }
      ]
    },
    {
      "cell_type": "markdown",
      "source": [
        "# 7. Write SQL query to find all the unique movie titles released in 2018\n"
      ],
      "metadata": {
        "id": "EuVeJbitTa5r"
      }
    },
    {
      "cell_type": "code",
      "source": [
        "q7 = \"\"\"SELECT DISTINCT title FROM movie WHERE year=2018 ;\"\"\""
      ],
      "metadata": {
        "id": "o8gdxdvXTW0G"
      },
      "execution_count": 38,
      "outputs": []
    },
    {
      "cell_type": "code",
      "source": [
        "def q7_grader(q7):\n",
        "  result = pd.read_sql_query(q7, conn)\n",
        "  return result.shape==(93, 1)\n",
        "print(q7_grader(q7))"
      ],
      "metadata": {
        "colab": {
          "base_uri": "https://localhost:8080/"
        },
        "id": "7fXGh9YmTrG0",
        "outputId": "cb913e4e-187c-4eb1-f092-77aca4f77ba4"
      },
      "execution_count": 39,
      "outputs": [
        {
          "output_type": "stream",
          "name": "stdout",
          "text": [
            "True\n"
          ]
        }
      ]
    },
    {
      "cell_type": "markdown",
      "source": [
        "# 8. Write SQL query to get total number of movies released between 2017 (inclusive) and 2018 (inclusive)"
      ],
      "metadata": {
        "id": "eZHUjGwJT_3-"
      }
    },
    {
      "cell_type": "code",
      "source": [
        "q8 = \"\"\"SELECT COUNT(title) FROM movie WHERE year BETWEEN 2017 AND 2018;\"\"\""
      ],
      "metadata": {
        "id": "Akv1LuIiT9j0"
      },
      "execution_count": 40,
      "outputs": []
    },
    {
      "cell_type": "code",
      "source": [
        "def q8_grader(q8):\n",
        "  result = pd.read_sql_query(q8, conn)\n",
        "  return result.iloc[0, 0] == 211\n",
        "print(q8_grader(q8))"
      ],
      "metadata": {
        "colab": {
          "base_uri": "https://localhost:8080/"
        },
        "id": "oVhSvEE2UTC8",
        "outputId": "44ffa50e-4727-496b-ecc4-1eeab4bd0a0a"
      },
      "execution_count": 41,
      "outputs": [
        {
          "output_type": "stream",
          "name": "stdout",
          "text": [
            "True\n"
          ]
        }
      ]
    },
    {
      "cell_type": "markdown",
      "source": [
        "# 9. Write SQL query to find the year in which maximum number of movies released"
      ],
      "metadata": {
        "id": "e11b-bfLUr3y"
      }
    },
    {
      "cell_type": "code",
      "source": [
        "q9 = \"\"\"SELECT year FROM movie GROUP BY year ORDER BY COUNT(*) DESC LIMIT 1;\"\"\""
      ],
      "metadata": {
        "id": "de2AloWYUmCc"
      },
      "execution_count": 42,
      "outputs": []
    },
    {
      "cell_type": "code",
      "source": [
        "def q9_grader(q9):\n",
        "  result = pd.read_sql_query(q9, conn)\n",
        "  return result[\"year\"][0]==\"2005\"\n",
        "print(q9_grader(q9))"
      ],
      "metadata": {
        "colab": {
          "base_uri": "https://localhost:8080/"
        },
        "id": "C_ynlqpKU0rv",
        "outputId": "37c5bbfa-fdf8-4143-d765-1dbf9a6b6a11"
      },
      "execution_count": 43,
      "outputs": [
        {
          "output_type": "stream",
          "name": "stdout",
          "text": [
            "True\n"
          ]
        }
      ]
    },
    {
      "cell_type": "markdown",
      "source": [
        "# 10. Write SQL query to find the title of the movie with rating>9.5 and number of votes > 90\n"
      ],
      "metadata": {
        "id": "ye__7OqSU6FQ"
      }
    },
    {
      "cell_type": "code",
      "source": [
        "q10 = \"\"\"SELECT title FROM movie WHERE rating >9.5 AND num_votes>90 ;\"\"\""
      ],
      "metadata": {
        "id": "PnhQwK0-U4Ne"
      },
      "execution_count": 44,
      "outputs": []
    },
    {
      "cell_type": "code",
      "source": [
        "def q10_grader(q10):\n",
        "  result = pd.read_sql_query(q10, conn)\n",
        "  return result[\"title\"][0]==\"Man on Mission Fauladi\"\n",
        "print(q10_grader(q10))"
      ],
      "metadata": {
        "colab": {
          "base_uri": "https://localhost:8080/"
        },
        "id": "QRuJ4SR4VT3-",
        "outputId": "2cce030c-75b5-487c-a1c1-54d276a7ca44"
      },
      "execution_count": 45,
      "outputs": [
        {
          "output_type": "stream",
          "name": "stdout",
          "text": [
            "True\n"
          ]
        }
      ]
    },
    {
      "cell_type": "markdown",
      "source": [
        "# 11. Write SQL query to find the number of movies which has the word 'Dilwale' in their title\n",
        "\n"
      ],
      "metadata": {
        "id": "fanINOj4VYoM"
      }
    },
    {
      "cell_type": "code",
      "source": [
        "q11 = \"\"\"SELECT COUNT(title) FROM movie WHERE title LIKE '%dilwale%';\"\"\""
      ],
      "metadata": {
        "id": "a-MV6NVDVWwT"
      },
      "execution_count": 46,
      "outputs": []
    },
    {
      "cell_type": "code",
      "source": [
        "def q11_grader(q11):\n",
        "  result = pd.read_sql_query(q11, conn)\n",
        "  return result.iloc[0, 0] == 4\n",
        "print(q11_grader(q11))"
      ],
      "metadata": {
        "colab": {
          "base_uri": "https://localhost:8080/"
        },
        "id": "xIxkwjm_VjhI",
        "outputId": "6a0b6cb3-53da-4c9c-cb89-9d3a9055509e"
      },
      "execution_count": 47,
      "outputs": [
        {
          "output_type": "stream",
          "name": "stdout",
          "text": [
            "True\n"
          ]
        }
      ]
    },
    {
      "cell_type": "markdown",
      "source": [
        "# 12. Write nested SQL query to find the CID of country which produced most number of movies\n"
      ],
      "metadata": {
        "id": "ABx8KRu0Vqt6"
      }
    },
    {
      "cell_type": "code",
      "source": [
        "q12 = \"\"\"SELECT CID FROM M_Country GROUP BY CID ORDER BY COUNT(*) DESC LIMIT 1;\"\"\""
      ],
      "metadata": {
        "id": "LpJ0sP2HVnLF"
      },
      "execution_count": 48,
      "outputs": []
    },
    {
      "cell_type": "code",
      "source": [
        "def q12_grader(q12):\n",
        "  result = pd.read_sql_query(q12, conn)\n",
        "  return result.iloc[0]==2.0\n",
        "print(q12_grader(q12))"
      ],
      "metadata": {
        "colab": {
          "base_uri": "https://localhost:8080/"
        },
        "id": "QrYu0dHUV1SX",
        "outputId": "e8e6c9ee-afef-42da-c542-8e66b7420647"
      },
      "execution_count": 49,
      "outputs": [
        {
          "output_type": "stream",
          "name": "stdout",
          "text": [
            "CID    True\n",
            "Name: 0, dtype: bool\n"
          ]
        }
      ]
    },
    {
      "cell_type": "markdown",
      "source": [
        "# 13. Write nested SQL query to the country which produced most number of movies (use both Courty table and M_Country table)\n"
      ],
      "metadata": {
        "id": "lZITR0VGV8DP"
      }
    },
    {
      "cell_type": "code",
      "source": [
        "q13 = \"\"\"SELECT T1.Name FROM Country AS T1 INNER JOIN M_Country AS T2 ON T1.CID = T2.CID GROUP BY T1.Name ORDER BY COUNT(T2.MID) DESC LIMIT 1;\"\"\""
      ],
      "metadata": {
        "id": "0aLPb1LqV5em"
      },
      "execution_count": 50,
      "outputs": []
    },
    {
      "cell_type": "code",
      "source": [
        "def q13_grader(q13):\n",
        "  result = pd.read_sql_query(q13, conn)\n",
        "  return result.iloc[0, 0] == \"India\"\n",
        "print(q13_grader(q13))"
      ],
      "metadata": {
        "colab": {
          "base_uri": "https://localhost:8080/"
        },
        "id": "ebk_QVfHWIHh",
        "outputId": "38c301ad-d551-450a-e55a-cd46d65d9358"
      },
      "execution_count": 51,
      "outputs": [
        {
          "output_type": "stream",
          "name": "stdout",
          "text": [
            "True\n"
          ]
        }
      ]
    },
    {
      "cell_type": "markdown",
      "source": [
        "# 14. Write SQL query to get the year and number of movies per year having number of movies per year is greater than 100"
      ],
      "metadata": {
        "id": "UY4LhBpYWTW-"
      }
    },
    {
      "cell_type": "code",
      "source": [
        "q14 = \"\"\"SELECT year, COUNT(title) FROM movie GROUP BY year HAVING COUNT(title) > 100 ORDER BY year;\"\"\""
      ],
      "metadata": {
        "id": "052RPUSAWL0h"
      },
      "execution_count": 52,
      "outputs": []
    },
    {
      "cell_type": "code",
      "source": [
        "def q14_grader(q14):\n",
        "  result = pd.read_sql_query(q14, conn)\n",
        "  return result.shape==(13,2)\n",
        "print(q14_grader(q14))"
      ],
      "metadata": {
        "colab": {
          "base_uri": "https://localhost:8080/"
        },
        "id": "BhiUDIp1WctO",
        "outputId": "1ed801ab-e934-4050-a7bc-3963a6c898ca"
      },
      "execution_count": 53,
      "outputs": [
        {
          "output_type": "stream",
          "name": "stdout",
          "text": [
            "True\n"
          ]
        }
      ]
    },
    {
      "cell_type": "markdown",
      "source": [
        "# 15. Write SQL query to get the Name and Language ID (LAID) corresponding to Malayalam language"
      ],
      "metadata": {
        "id": "h6mNiyekWqzc"
      }
    },
    {
      "cell_type": "code",
      "source": [
        "q15 = \"\"\"SELECT T1.Name, T2.LAID FROM Language AS T1 INNER JOIN M_Language AS T2 ON T1.LAID = T2.LAID WHERE T1.Name = 'Malayalam';\"\"\""
      ],
      "metadata": {
        "id": "otBjS8HrWiH3"
      },
      "execution_count": 54,
      "outputs": []
    },
    {
      "cell_type": "code",
      "source": [
        "def q15_grader(q15):\n",
        "  result = pd.read_sql_query(q15, conn)\n",
        "  print(result)\n",
        "  return result[[\"Name\", \"LAID\"]].values.tolist() == [['Malayalam', 19]]\n",
        "print(q15_grader(q15))"
      ],
      "metadata": {
        "colab": {
          "base_uri": "https://localhost:8080/"
        },
        "id": "S822WbVRX7nj",
        "outputId": "6449e0f5-1aa4-41b8-dad1-033da4011249"
      },
      "execution_count": 55,
      "outputs": [
        {
          "output_type": "stream",
          "name": "stdout",
          "text": [
            "         Name  LAID\n",
            "0   Malayalam    19\n",
            "1   Malayalam    19\n",
            "2   Malayalam    19\n",
            "3   Malayalam    19\n",
            "4   Malayalam    19\n",
            "5   Malayalam    19\n",
            "6   Malayalam    19\n",
            "7   Malayalam    19\n",
            "8   Malayalam    19\n",
            "9   Malayalam    19\n",
            "10  Malayalam    19\n",
            "11  Malayalam    19\n",
            "12  Malayalam    19\n",
            "13  Malayalam    19\n",
            "14  Malayalam    19\n",
            "15  Malayalam    19\n",
            "False\n"
          ]
        }
      ]
    },
    {
      "cell_type": "markdown",
      "source": [
        "# 16. Write SQL query to do inner join with movie table and M_Language table with MID colums"
      ],
      "metadata": {
        "id": "MEWGUDdzYCTe"
      }
    },
    {
      "cell_type": "code",
      "source": [
        "q16 = \"\"\"SELECT T1.MID FROM movie AS T1 INNER JOIN M_Language AS T2 ON T1.MID = T2.MID;\"\"\""
      ],
      "metadata": {
        "id": "WOqxwL8yX_WY"
      },
      "execution_count": 56,
      "outputs": []
    },
    {
      "cell_type": "code",
      "source": [
        "def q16_grader(q16):\n",
        "  result = pd.read_sql_query(q16, conn)\n",
        "  return result\n",
        "print(q16_grader(q16))"
      ],
      "metadata": {
        "colab": {
          "base_uri": "https://localhost:8080/"
        },
        "id": "fQwVP68nYNBX",
        "outputId": "e1f1302e-9065-470c-872b-a22e4e3ddd3d"
      },
      "execution_count": 57,
      "outputs": [
        {
          "output_type": "stream",
          "name": "stdout",
          "text": [
            "            MID\n",
            "0     tt2388771\n",
            "1     tt5164214\n",
            "2     tt1365519\n",
            "3     tt0848228\n",
            "4     tt8239946\n",
            "...         ...\n",
            "3468  tt0090611\n",
            "3469  tt0106270\n",
            "3470  tt0852989\n",
            "3471  tt0375882\n",
            "3472  tt0375890\n",
            "\n",
            "[3473 rows x 1 columns]\n"
          ]
        }
      ]
    },
    {
      "cell_type": "markdown",
      "source": [
        "# 17. Write SQL query to list title, year and rating of malayalam movies in the database by doing an inner join with movie table and M_Language table with MID column, also assuming language ID of malayalam movies as 19"
      ],
      "metadata": {
        "id": "sOxax4JnYSck"
      }
    },
    {
      "cell_type": "code",
      "source": [
        "q17 = \"\"\"SELECT T1.title, T1.year, T1.rating FROM movie AS T1 INNER JOIN M_Language AS T2 ON T1.MID = T2.MID INNER JOIN Language AS T3 ON T2.LAID = T3.LAID WHERE T3.Name = 'Malayalam';\"\"\""
      ],
      "metadata": {
        "id": "eysqLYubYPwe"
      },
      "execution_count": 59,
      "outputs": []
    },
    {
      "cell_type": "code",
      "source": [
        "def q17_grader(q17):\n",
        "  result = pd.read_sql_query(q17, conn)\n",
        "  return result.shape==(16,3)\n",
        "print(q17_grader(q17))"
      ],
      "metadata": {
        "colab": {
          "base_uri": "https://localhost:8080/"
        },
        "id": "aBIihLAWYx6Y",
        "outputId": "4c2273ba-874a-495b-ea73-7d8386be66f0"
      },
      "execution_count": 60,
      "outputs": [
        {
          "output_type": "stream",
          "name": "stdout",
          "text": [
            "True\n"
          ]
        }
      ]
    },
    {
      "cell_type": "code",
      "source": [
        "![ -f academic.db ] && rm academic.db\n",
        "\n",
        "conn = sqlite3.connect(\"academic.db\")\n",
        "cursor = conn.cursor()"
      ],
      "metadata": {
        "id": "3Q9cbe-7Y_2O"
      },
      "execution_count": 61,
      "outputs": []
    },
    {
      "cell_type": "markdown",
      "source": [
        "# 18. Write SQL query to Create a table named students with two columns id (integer type) and name (varchar type)\n",
        "\n"
      ],
      "metadata": {
        "id": "F6pPmkwPZGM9"
      }
    },
    {
      "cell_type": "code",
      "source": [
        "q18a = \"\"\"CREATE TABLE students (id INTEGER, name VARCHAR(255));\"\"\""
      ],
      "metadata": {
        "id": "cd9mFJiAZFFQ"
      },
      "execution_count": 62,
      "outputs": []
    },
    {
      "cell_type": "code",
      "source": [
        "def q18_grader_a(q18):\n",
        "  try:\n",
        "    cursor.execute(q18)\n",
        "    return True\n",
        "  except:\n",
        "    pass\n",
        "\n",
        "def q18_grader_b(q19):\n",
        "  result = pd.read_sql_query(q19, conn)\n",
        "  return result.columns.tolist() == ['id', 'name']\n",
        "\n",
        "q18b = \"\"\"SELECT * FROM students;\"\"\"\n",
        "\n",
        "print(q18_grader_a(q18a) and q18_grader_b(q18b))"
      ],
      "metadata": {
        "colab": {
          "base_uri": "https://localhost:8080/"
        },
        "id": "4xolBsyHZT5j",
        "outputId": "5130174c-e51b-4f13-d0e1-a901879d2145"
      },
      "execution_count": 63,
      "outputs": [
        {
          "output_type": "stream",
          "name": "stdout",
          "text": [
            "True\n"
          ]
        }
      ]
    },
    {
      "cell_type": "markdown",
      "source": [
        "# 19. Write SQL query to insert the values (1, 'Alice') into students table\n"
      ],
      "metadata": {
        "id": "9BhrbMcCZZMO"
      }
    },
    {
      "cell_type": "code",
      "source": [
        "q19_a = \"\"\"INSERT INTO students (id, name) VALUES (1, 'Alice');\"\"\""
      ],
      "metadata": {
        "id": "W9u_RPjEZXzs"
      },
      "execution_count": 64,
      "outputs": []
    },
    {
      "cell_type": "code",
      "source": [
        "def q19_grader_a(q19_a):\n",
        "  try:\n",
        "    cursor.execute(q19_a)\n",
        "  except:\n",
        "    pass\n",
        "  return True\n",
        "\n",
        "def q19_grader_b(q19_b):\n",
        "  result = pd.read_sql_query(q19_b, conn)\n",
        "  return result.values.tolist() == [[1, 'Alice']]\n",
        "\n",
        "q19_b = \"SELECT * FROM students\"\n",
        "print(q19_grader_a(q19_a) and q19_grader_b(q19_b))"
      ],
      "metadata": {
        "colab": {
          "base_uri": "https://localhost:8080/"
        },
        "id": "QYwTHgTTZ8yY",
        "outputId": "ff6b4b04-fd8a-4ed8-bd96-2e2226e64b4c"
      },
      "execution_count": 65,
      "outputs": [
        {
          "output_type": "stream",
          "name": "stdout",
          "text": [
            "True\n"
          ]
        }
      ]
    },
    {
      "cell_type": "markdown",
      "source": [
        "20. Write SQL Query to add the following more information to students table\n",
        "\n",
        "\n",
        "*  ID\tName\n",
        "*2\tBob\n",
        "*3\tCharlie\n",
        "\n",
        "\n",
        "\n",
        "\n",
        "\n",
        "\n",
        "\n",
        "\n",
        "\n",
        "\n"
      ],
      "metadata": {
        "id": "H2z9jh5UaKAy"
      }
    },
    {
      "cell_type": "code",
      "source": [
        "q20 = \"\"\"INSERT INTO students (id, name) VALUES (2,'Bob'),(3, 'Charlie');\"\"\""
      ],
      "metadata": {
        "id": "mnm3QOxGaIjr"
      },
      "execution_count": 66,
      "outputs": []
    },
    {
      "cell_type": "code",
      "source": [
        "def q20_grader(q20):\n",
        "  try:\n",
        "    cursor.execute(q20)\n",
        "  except:\n",
        "    pass\n",
        "  return True\n",
        "\n",
        "def q20_grader_b(q20_b):\n",
        "  result = pd.read_sql_query(q20_b, conn)\n",
        "  return result.values.tolist() == [[1, 'Alice'], [2, 'Bob'], [3, 'Charlie']]\n",
        "\n",
        "print(q20_grader(q20) and q20_grader_b(q19_b))"
      ],
      "metadata": {
        "colab": {
          "base_uri": "https://localhost:8080/"
        },
        "id": "79Lm1mHqb5am",
        "outputId": "b06ea881-9b93-414d-fe6e-6b380f68186a"
      },
      "execution_count": 67,
      "outputs": [
        {
          "output_type": "stream",
          "name": "stdout",
          "text": [
            "True\n"
          ]
        }
      ]
    },
    {
      "cell_type": "code",
      "source": [
        "#conn.close()"
      ],
      "metadata": {
        "id": "-XNgQNx2b80o"
      },
      "execution_count": 68,
      "outputs": []
    },
    {
      "cell_type": "code",
      "source": [],
      "metadata": {
        "id": "4pgTfy2JcEzu"
      },
      "execution_count": null,
      "outputs": []
    }
  ]
}
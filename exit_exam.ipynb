{
  "nbformat": 4,
  "nbformat_minor": 0,
  "metadata": {
    "colab": {
      "provenance": [],
      "authorship_tag": "ABX9TyN9tSnm+Tn08SJCihzXUqne",
      "include_colab_link": true
    },
    "kernelspec": {
      "name": "python3",
      "display_name": "Python 3"
    },
    "language_info": {
      "name": "python"
    }
  },
  "cells": [
    {
      "cell_type": "markdown",
      "metadata": {
        "id": "view-in-github",
        "colab_type": "text"
      },
      "source": [
        "<a href=\"https://colab.research.google.com/github/Thahira8/assesmnt/blob/main/exit_exam.ipynb\" target=\"_parent\"><img src=\"https://colab.research.google.com/assets/colab-badge.svg\" alt=\"Open In Colab\"/></a>"
      ]
    },
    {
      "cell_type": "code",
      "source": [
        "import numpy as np\n",
        "import pandas as pd\n",
        "import matplotlib.pyplot as plt\n"
      ],
      "metadata": {
        "id": "pGBfBhtSd-Hz"
      },
      "execution_count": 17,
      "outputs": []
    },
    {
      "cell_type": "code",
      "execution_count": null,
      "metadata": {
        "colab": {
          "base_uri": "https://localhost:8080/"
        },
        "id": "ahUBTtXYcIV_",
        "outputId": "2c52cd48-8fe8-44ac-ebfd-2cac7ea0e9ec"
      },
      "outputs": [
        {
          "output_type": "stream",
          "name": "stdout",
          "text": [
            "  duration_minutes duration_seasons   type  \\\n",
            "0               90              NaN  Movie   \n",
            "1               90              NaN  Movie   \n",
            "2               90              NaN  Movie   \n",
            "3               90              NaN  Movie   \n",
            "4               90              NaN  Movie   \n",
            "\n",
            "                                     title           date_added  release_year  \\\n",
            "0  Norm of the North: King Sized Adventure  2019-09-09 00:00:00        2019.0   \n",
            "1  Norm of the North: King Sized Adventure  2019-09-09 00:00:00        2019.0   \n",
            "2  Norm of the North: King Sized Adventure  2019-09-09 00:00:00        2019.0   \n",
            "3  Norm of the North: King Sized Adventure  2019-09-09 00:00:00        2019.0   \n",
            "4  Norm of the North: King Sized Adventure  2019-09-09 00:00:00        2019.0   \n",
            "\n",
            "  rating                                        description     show_id  \\\n",
            "0  TV-PG  Before planning an awesome wedding for his gra...  81145628.0   \n",
            "1  TV-PG  Before planning an awesome wedding for his gra...  81145628.0   \n",
            "2  TV-PG  Before planning an awesome wedding for his gra...  81145628.0   \n",
            "3  TV-PG  Before planning an awesome wedding for his gra...  81145628.0   \n",
            "4  TV-PG  Before planning an awesome wedding for his gra...  81145628.0   \n",
            "\n",
            "            cast      director                 listed_in        country  \n",
            "0  Alan Marriott  Richard Finn  Children & Family Movies  United States  \n",
            "1  Alan Marriott  Richard Finn  Children & Family Movies          China  \n",
            "2  Alan Marriott  Richard Finn  Children & Family Movies          India  \n",
            "3  Alan Marriott  Richard Finn  Children & Family Movies    South Korea  \n",
            "4  Alan Marriott  Richard Finn                  Comedies  United States  \n"
          ]
        }
      ],
      "source": [
        "file_path = '/content/partpdf_1758712161434_netflix_titles.xlsx'\n",
        "sheet_names = ['netflix_titles', 'netflix_titles_cast', 'netflix_titles_directors', 'netflix_titles_category', 'netflix_titles_countries']\n",
        "dfs = {name: pd.read_excel(file_path, sheet_name=name) for name in sheet_names}\n",
        "master_df = dfs['netflix_titles']\n",
        "for name in sheet_names[1:]:\n",
        "    master_df = master_df.merge(dfs[name], on='show_id', how='left')\n",
        "print(master_df.head())\n"
      ]
    },
    {
      "cell_type": "markdown",
      "source": [
        "ANALYTICAL ANSWER = I use left join to merge the main 'netflix_titles' with others. This keeps all titles from the main list, even if some don't have matching informtion in other sheets. A left join is best because it ensures no titles are lost during merge.\n"
      ],
      "metadata": {
        "id": "2_CsYA1FdFKD"
      }
    },
    {
      "cell_type": "code",
      "source": [
        "master_df.info()"
      ],
      "metadata": {
        "colab": {
          "base_uri": "https://localhost:8080/"
        },
        "id": "IJ4lgn7VcY6z",
        "outputId": "08605fc5-d51e-47f0-c9ef-d8218567341d"
      },
      "execution_count": null,
      "outputs": [
        {
          "output_type": "stream",
          "name": "stdout",
          "text": [
            "<class 'pandas.core.frame.DataFrame'>\n",
            "RangeIndex: 139946 entries, 0 to 139945\n",
            "Data columns (total 13 columns):\n",
            " #   Column            Non-Null Count   Dtype  \n",
            "---  ------            --------------   -----  \n",
            " 0   duration_minutes  98561 non-null   object \n",
            " 1   duration_seasons  41387 non-null   object \n",
            " 2   type              139945 non-null  object \n",
            " 3   title             139945 non-null  object \n",
            " 4   date_added        139785 non-null  object \n",
            " 5   release_year      139944 non-null  float64\n",
            " 6   rating            139870 non-null  object \n",
            " 7   description       139943 non-null  object \n",
            " 8   show_id           139942 non-null  float64\n",
            " 9   cast              138456 non-null  object \n",
            " 10  director          101031 non-null  object \n",
            " 11  listed_in         139942 non-null  object \n",
            " 12  country           134152 non-null  object \n",
            "dtypes: float64(2), object(11)\n",
            "memory usage: 13.9+ MB\n"
          ]
        }
      ]
    },
    {
      "cell_type": "code",
      "source": [
        "master_df.to_csv('combined_dataset.csv', index=False)\n"
      ],
      "metadata": {
        "id": "VkaTdy0bd1il"
      },
      "execution_count": null,
      "outputs": []
    },
    {
      "cell_type": "code",
      "source": [
        "master_df.shape"
      ],
      "metadata": {
        "colab": {
          "base_uri": "https://localhost:8080/"
        },
        "id": "rKRASd5qdXqi",
        "outputId": "1b17073c-327a-4bbb-9835-b0149c6d5ae4"
      },
      "execution_count": null,
      "outputs": [
        {
          "output_type": "execute_result",
          "data": {
            "text/plain": [
              "(139946, 13)"
            ]
          },
          "metadata": {},
          "execution_count": 14
        }
      ]
    },
    {
      "cell_type": "code",
      "source": [
        "df = pd.read_csv('/content/combined_dataset.csv')\n",
        "df['director'].fillna('Unknown', inplace=True)\n",
        "df['country'].fillna('Unknown', inplace=True)\n",
        "df.dropna(subset=['date_added'], inplace=True)\n",
        "df['date_added'] = pd.to_datetime(df['date_added'], errors='coerce')\n",
        "df['year_added'] = df['date_added'].dt.year\n",
        "missing_summary = df.isnull().sum()\n",
        "print(df.head())\n",
        "print(\"\\nMissing values summary:\\n\", missing_summary)\n"
      ],
      "metadata": {
        "colab": {
          "base_uri": "https://localhost:8080/"
        },
        "id": "TSQI3wITddIK",
        "outputId": "0ce2682a-c479-454e-b52b-8443b9abcf3e"
      },
      "execution_count": null,
      "outputs": [
        {
          "output_type": "stream",
          "name": "stderr",
          "text": [
            "/tmp/ipython-input-3462718370.py:1: DtypeWarning: Columns (0,1) have mixed types. Specify dtype option on import or set low_memory=False.\n",
            "  df = pd.read_csv('/content/combined_dataset.csv')\n",
            "/tmp/ipython-input-3462718370.py:2: FutureWarning: A value is trying to be set on a copy of a DataFrame or Series through chained assignment using an inplace method.\n",
            "The behavior will change in pandas 3.0. This inplace method will never work because the intermediate object on which we are setting values always behaves as a copy.\n",
            "\n",
            "For example, when doing 'df[col].method(value, inplace=True)', try using 'df.method({col: value}, inplace=True)' or df[col] = df[col].method(value) instead, to perform the operation inplace on the original object.\n",
            "\n",
            "\n",
            "  df['director'].fillna('Unknown', inplace=True)\n",
            "/tmp/ipython-input-3462718370.py:3: FutureWarning: A value is trying to be set on a copy of a DataFrame or Series through chained assignment using an inplace method.\n",
            "The behavior will change in pandas 3.0. This inplace method will never work because the intermediate object on which we are setting values always behaves as a copy.\n",
            "\n",
            "For example, when doing 'df[col].method(value, inplace=True)', try using 'df.method({col: value}, inplace=True)' or df[col] = df[col].method(value) instead, to perform the operation inplace on the original object.\n",
            "\n",
            "\n",
            "  df['country'].fillna('Unknown', inplace=True)\n"
          ]
        },
        {
          "output_type": "stream",
          "name": "stdout",
          "text": [
            "  duration_minutes duration_seasons   type  \\\n",
            "0               90              NaN  Movie   \n",
            "1               90              NaN  Movie   \n",
            "2               90              NaN  Movie   \n",
            "3               90              NaN  Movie   \n",
            "4               90              NaN  Movie   \n",
            "\n",
            "                                     title date_added  release_year rating  \\\n",
            "0  Norm of the North: King Sized Adventure 2019-09-09        2019.0  TV-PG   \n",
            "1  Norm of the North: King Sized Adventure 2019-09-09        2019.0  TV-PG   \n",
            "2  Norm of the North: King Sized Adventure 2019-09-09        2019.0  TV-PG   \n",
            "3  Norm of the North: King Sized Adventure 2019-09-09        2019.0  TV-PG   \n",
            "4  Norm of the North: King Sized Adventure 2019-09-09        2019.0  TV-PG   \n",
            "\n",
            "                                         description     show_id  \\\n",
            "0  Before planning an awesome wedding for his gra...  81145628.0   \n",
            "1  Before planning an awesome wedding for his gra...  81145628.0   \n",
            "2  Before planning an awesome wedding for his gra...  81145628.0   \n",
            "3  Before planning an awesome wedding for his gra...  81145628.0   \n",
            "4  Before planning an awesome wedding for his gra...  81145628.0   \n",
            "\n",
            "            cast      director                 listed_in        country  \\\n",
            "0  Alan Marriott  Richard Finn  Children & Family Movies  United States   \n",
            "1  Alan Marriott  Richard Finn  Children & Family Movies          China   \n",
            "2  Alan Marriott  Richard Finn  Children & Family Movies          India   \n",
            "3  Alan Marriott  Richard Finn  Children & Family Movies    South Korea   \n",
            "4  Alan Marriott  Richard Finn                  Comedies  United States   \n",
            "\n",
            "   year_added  \n",
            "0      2019.0  \n",
            "1      2019.0  \n",
            "2      2019.0  \n",
            "3      2019.0  \n",
            "4      2019.0  \n",
            "\n",
            "Missing values summary:\n",
            " duration_minutes    41227\n",
            "duration_seasons    98557\n",
            "type                    0\n",
            "title                   0\n",
            "date_added              1\n",
            "release_year            0\n",
            "rating                 73\n",
            "description             1\n",
            "show_id                 2\n",
            "cast                 1487\n",
            "director                0\n",
            "listed_in               2\n",
            "country                 0\n",
            "year_added              1\n",
            "dtype: int64\n"
          ]
        }
      ]
    },
    {
      "cell_type": "markdown",
      "source": [
        "ANALYTICAL ANSWER: To handle missing country data, I filled the null values with the placeholder 'Unknown'. This approach preserves the dataset's completeness, ensuring no records are lost during analysis. Dropping rows could eliminate potentially valuable information, while imputation isn't ideal due to the categorical nature of the data. Using 'Unknown' allows for consistent handling and easy filtering during further analysis.\n"
      ],
      "metadata": {
        "id": "axfZhN84e8Yo"
      }
    },
    {
      "cell_type": "code",
      "source": [
        "df = df.dropna(subset=['cast'])\n",
        "df['cast'] = df['cast'].str.split(',').apply(lambda x: [i.strip() for i in x])\n",
        "exploded_df = df.explode('cast')\n",
        "print(exploded_df.head())\n"
      ],
      "metadata": {
        "colab": {
          "base_uri": "https://localhost:8080/"
        },
        "id": "wL2D3K0TegyH",
        "outputId": "9102dd76-367a-4ade-92d7-8fd8d55c96b2"
      },
      "execution_count": null,
      "outputs": [
        {
          "output_type": "stream",
          "name": "stdout",
          "text": [
            "  duration_minutes duration_seasons   type  \\\n",
            "0               90              NaN  Movie   \n",
            "1               90              NaN  Movie   \n",
            "2               90              NaN  Movie   \n",
            "3               90              NaN  Movie   \n",
            "4               90              NaN  Movie   \n",
            "\n",
            "                                     title date_added  release_year rating  \\\n",
            "0  Norm of the North: King Sized Adventure 2019-09-09        2019.0  TV-PG   \n",
            "1  Norm of the North: King Sized Adventure 2019-09-09        2019.0  TV-PG   \n",
            "2  Norm of the North: King Sized Adventure 2019-09-09        2019.0  TV-PG   \n",
            "3  Norm of the North: King Sized Adventure 2019-09-09        2019.0  TV-PG   \n",
            "4  Norm of the North: King Sized Adventure 2019-09-09        2019.0  TV-PG   \n",
            "\n",
            "                                         description     show_id  \\\n",
            "0  Before planning an awesome wedding for his gra...  81145628.0   \n",
            "1  Before planning an awesome wedding for his gra...  81145628.0   \n",
            "2  Before planning an awesome wedding for his gra...  81145628.0   \n",
            "3  Before planning an awesome wedding for his gra...  81145628.0   \n",
            "4  Before planning an awesome wedding for his gra...  81145628.0   \n",
            "\n",
            "            cast      director                 listed_in        country  \\\n",
            "0  Alan Marriott  Richard Finn  Children & Family Movies  United States   \n",
            "1  Alan Marriott  Richard Finn  Children & Family Movies          China   \n",
            "2  Alan Marriott  Richard Finn  Children & Family Movies          India   \n",
            "3  Alan Marriott  Richard Finn  Children & Family Movies    South Korea   \n",
            "4  Alan Marriott  Richard Finn                  Comedies  United States   \n",
            "\n",
            "   year_added  \n",
            "0      2019.0  \n",
            "1      2019.0  \n",
            "2      2019.0  \n",
            "3      2019.0  \n",
            "4      2019.0  \n"
          ]
        }
      ]
    },
    {
      "cell_type": "code",
      "source": [
        "exploded_df.to_csv('exploded_cast_dataset.csv', index=False)\n",
        "\n"
      ],
      "metadata": {
        "id": "Z9zxUV2viZp2"
      },
      "execution_count": 18,
      "outputs": []
    },
    {
      "cell_type": "markdown",
      "source": [
        "ANALYTICAL ANSWER: Exploding the `cast` or `listed_in` column enables granular analysis by converting multi-value strings into individual rows. This transformation allows businesses to identify the most frequent actors or genres, uncover collaboration patterns, and analyze content distribution more effectively. It also supports targeted marketing strategies and personalized recommendations by understanding viewer preferences at a more detailed level.\n"
      ],
      "metadata": {
        "id": "V5ZKbH8YhdwP"
      }
    },
    {
      "cell_type": "code",
      "source": [
        "df = pd.read_csv('/content/exploded_cast_dataset.csv')\n",
        "top_actors = df['cast'].value_counts().head(10)\n",
        "plt.figure(figsize=(10, 6))\n",
        "top_actors.plot(kind='bar', color='skyblue')\n",
        "plt.title('Top 10 Most Frequent Actors on Netflix')\n",
        "plt.xlabel('Actor')\n",
        "plt.ylabel('Number of Appearances')\n",
        "plt.xticks(rotation=45, ha='right')\n",
        "plt.tight_layout()\n",
        "plt.show()\n"
      ],
      "metadata": {
        "id": "WNQERjIGgiha",
        "colab": {
          "base_uri": "https://localhost:8080/",
          "height": 607
        },
        "outputId": "883885b1-afd7-448b-b60a-7e444e0dcd13"
      },
      "execution_count": 20,
      "outputs": [
        {
          "output_type": "display_data",
          "data": {
            "text/plain": [
              "<Figure size 1000x600 with 1 Axes>"
            ],
            "image/png": "[encoded data removed]"
          },
          "metadata": {}
        }
      ]
    },
    {
      "cell_type": "markdown",
      "source": [
        "ANALYTICAL ANSWER: The data reveals a strong concentration of actors in Netflix content, with leading the list. This suggests Netflix is heavily investing in Indian productions, likely to strengthen its presence in the South Asian market and cater to a growing regional audience."
      ],
      "metadata": {
        "id": "R-Dj0iMFjHBY"
      }
    },
    {
      "cell_type": "code",
      "source": [],
      "metadata": {
        "id": "xLLJF7yQiq-_"
      },
      "execution_count": null,
      "outputs": []
    }
  ]
}
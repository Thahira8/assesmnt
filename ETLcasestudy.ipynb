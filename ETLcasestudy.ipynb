{
  "nbformat": 4,
  "nbformat_minor": 0,
  "metadata": {
    "colab": {
      "provenance": [],
      "authorship_tag": "ABX9TyMyFdk/vONVtg0+sER5zFOa",
      "include_colab_link": true
    },
    "kernelspec": {
      "name": "python3",
      "display_name": "Python 3"
    },
    "language_info": {
      "name": "python"
    }
  },
  "cells": [
    {
      "cell_type": "markdown",
      "metadata": {
        "id": "view-in-github",
        "colab_type": "text"
      },
      "source": [
        "<a href=\"https://colab.research.google.com/github/Thahira8/assesmnt/blob/main/ETLcasestudy.ipynb\" target=\"_parent\"><img src=\"https://colab.research.google.com/assets/colab-badge.svg\" alt=\"Open In Colab\"/></a>"
      ]
    },
    {
      "cell_type": "code",
      "execution_count": 12,
      "metadata": {
        "id": "F0HYVKDDoQIB"
      },
      "outputs": [],
      "source": [
        "import pandas as pd"
      ]
    },
    {
      "cell_type": "markdown",
      "source": [
        "# Load the dataset into a DataFrame"
      ],
      "metadata": {
        "id": "9XIudhj8r6BD"
      }
    },
    {
      "cell_type": "code",
      "source": [
        "df = pd.read_csv('https://earthquake.usgs.gov/earthquakes/feed/v1.0/summary/all_month.csv')\n",
        "print(df.head())"
      ],
      "metadata": {
        "colab": {
          "base_uri": "https://localhost:8080/"
        },
        "id": "2uQNIGKSoU1Y",
        "outputId": "1d1527f8-c3c2-4ef3-90b2-0ceea608460e"
      },
      "execution_count": 13,
      "outputs": [
        {
          "output_type": "stream",
          "name": "stdout",
          "text": [
            "                       time   latitude   longitude  depth   mag magType   nst  \\\n",
            "0  2025-07-21T13:45:42.070Z  35.879667 -117.699667   4.65  0.39      ml  14.0   \n",
            "1  2025-07-21T13:38:41.910Z  33.741000 -116.970000  14.48  1.62      ml  78.0   \n",
            "2  2025-07-21T13:33:53.730Z  64.611500 -148.063500  11.80  0.90      ml   NaN   \n",
            "3  2025-07-21T13:29:08.941Z  60.599300 -147.969800  14.90  1.90      ml   NaN   \n",
            "4  2025-07-21T13:21:55.780Z  34.150000 -117.742333   7.99  0.98      ml  26.0   \n",
            "\n",
            "    gap     dmin   rms  ...                   updated  \\\n",
            "0  84.0  0.07897  0.08  ...  2025-07-21T13:49:10.770Z   \n",
            "1  20.0  0.04203  0.21  ...  2025-07-21T13:49:41.210Z   \n",
            "2   NaN      NaN  0.52  ...  2025-07-21T13:36:14.626Z   \n",
            "3   NaN      NaN  0.48  ...  2025-07-21T13:30:57.492Z   \n",
            "4  55.0  0.07213  0.19  ...  2025-07-21T13:25:57.625Z   \n",
            "\n",
            "                                 place        type horizontalError depthError  \\\n",
            "0         20 km ESE of Little Lake, CA  earthquake            0.13       0.29   \n",
            "1                1 km SSE of Hemet, CA  earthquake            0.15       0.30   \n",
            "2  25 km SSW of South Van Horn, Alaska  earthquake             NaN       0.20   \n",
            "3        43 km ESE of Whittier, Alaska  earthquake             NaN       0.30   \n",
            "4             6 km NNE of La Verne, CA  earthquake            0.26       0.54   \n",
            "\n",
            "   magError  magNst     status  locationSource magSource  \n",
            "0     0.062     9.0  automatic              ci        ci  \n",
            "1     0.147    26.0  automatic              ci        ci  \n",
            "2       NaN     NaN  automatic              ak        ak  \n",
            "3       NaN     NaN  automatic              ak        ak  \n",
            "4     0.320    30.0  automatic              ci        ci  \n",
            "\n",
            "[5 rows x 22 columns]\n"
          ]
        }
      ]
    },
    {
      "cell_type": "markdown",
      "source": [
        "## Identify number of records and unique locations"
      ],
      "metadata": {
        "id": "w6y8Ufyqr8pM"
      }
    },
    {
      "cell_type": "code",
      "source": [
        "number_records = df.shape[0]\n",
        "print(f'Number of records: {number_records}')"
      ],
      "metadata": {
        "colab": {
          "base_uri": "https://localhost:8080/"
        },
        "id": "QTxew6b7pbK5",
        "outputId": "1ebf66cd-8c9f-46a1-ccf6-7ac1f05711c6"
      },
      "execution_count": 14,
      "outputs": [
        {
          "output_type": "stream",
          "name": "stdout",
          "text": [
            "Number of records: 10891\n"
          ]
        }
      ]
    },
    {
      "cell_type": "code",
      "source": [
        "unique_locations = df['place'].nunique()\n",
        "print(f'Number of unique locations:\"{unique_locations}')"
      ],
      "metadata": {
        "colab": {
          "base_uri": "https://localhost:8080/"
        },
        "id": "W0lEZdm-qFZh",
        "outputId": "fc169c7e-bac0-43e8-a93f-c3a83f64f837"
      },
      "execution_count": 15,
      "outputs": [
        {
          "output_type": "stream",
          "name": "stdout",
          "text": [
            "Number of unique locations:\"5585\n"
          ]
        }
      ]
    },
    {
      "cell_type": "markdown",
      "source": [
        "## Print top 5 rows and column names"
      ],
      "metadata": {
        "id": "Mkh30hKQsFcL"
      }
    },
    {
      "cell_type": "code",
      "source": [
        "print(df.head())\n",
        "print(\"top 5 rows:\")\n",
        "\n",
        "print(df.columns)\n",
        "print(\"column names\")\n"
      ],
      "metadata": {
        "colab": {
          "base_uri": "https://localhost:8080/"
        },
        "id": "lK6U-LueqRp_",
        "outputId": "67c6194d-0100-4737-d4a1-4cb0db3f9c9c"
      },
      "execution_count": 16,
      "outputs": [
        {
          "output_type": "stream",
          "name": "stdout",
          "text": [
            "                       time   latitude   longitude  depth   mag magType   nst  \\\n",
            "0  2025-07-21T13:45:42.070Z  35.879667 -117.699667   4.65  0.39      ml  14.0   \n",
            "1  2025-07-21T13:38:41.910Z  33.741000 -116.970000  14.48  1.62      ml  78.0   \n",
            "2  2025-07-21T13:33:53.730Z  64.611500 -148.063500  11.80  0.90      ml   NaN   \n",
            "3  2025-07-21T13:29:08.941Z  60.599300 -147.969800  14.90  1.90      ml   NaN   \n",
            "4  2025-07-21T13:21:55.780Z  34.150000 -117.742333   7.99  0.98      ml  26.0   \n",
            "\n",
            "    gap     dmin   rms  ...                   updated  \\\n",
            "0  84.0  0.07897  0.08  ...  2025-07-21T13:49:10.770Z   \n",
            "1  20.0  0.04203  0.21  ...  2025-07-21T13:49:41.210Z   \n",
            "2   NaN      NaN  0.52  ...  2025-07-21T13:36:14.626Z   \n",
            "3   NaN      NaN  0.48  ...  2025-07-21T13:30:57.492Z   \n",
            "4  55.0  0.07213  0.19  ...  2025-07-21T13:25:57.625Z   \n",
            "\n",
            "                                 place        type horizontalError depthError  \\\n",
            "0         20 km ESE of Little Lake, CA  earthquake            0.13       0.29   \n",
            "1                1 km SSE of Hemet, CA  earthquake            0.15       0.30   \n",
            "2  25 km SSW of South Van Horn, Alaska  earthquake             NaN       0.20   \n",
            "3        43 km ESE of Whittier, Alaska  earthquake             NaN       0.30   \n",
            "4             6 km NNE of La Verne, CA  earthquake            0.26       0.54   \n",
            "\n",
            "   magError  magNst     status  locationSource magSource  \n",
            "0     0.062     9.0  automatic              ci        ci  \n",
            "1     0.147    26.0  automatic              ci        ci  \n",
            "2       NaN     NaN  automatic              ak        ak  \n",
            "3       NaN     NaN  automatic              ak        ak  \n",
            "4     0.320    30.0  automatic              ci        ci  \n",
            "\n",
            "[5 rows x 22 columns]\n",
            "top 5 rows:\n",
            "Index(['time', 'latitude', 'longitude', 'depth', 'mag', 'magType', 'nst',\n",
            "       'gap', 'dmin', 'rms', 'net', 'id', 'updated', 'place', 'type',\n",
            "       'horizontalError', 'depthError', 'magError', 'magNst', 'status',\n",
            "       'locationSource', 'magSource'],\n",
            "      dtype='object')\n",
            "column names\n"
          ]
        }
      ]
    },
    {
      "cell_type": "markdown",
      "source": [
        "## Convert time to datetime"
      ],
      "metadata": {
        "id": "Dv73GnH-sPpv"
      }
    },
    {
      "cell_type": "code",
      "source": [
        "df['time']=pd.to_datetime(df['time']).dt.date\n",
        "print(df['time'].head())"
      ],
      "metadata": {
        "colab": {
          "base_uri": "https://localhost:8080/"
        },
        "id": "MOi-WNDpq5OB",
        "outputId": "bfb07644-b2a0-4315-9cb0-40690b17c395"
      },
      "execution_count": 30,
      "outputs": [
        {
          "output_type": "stream",
          "name": "stdout",
          "text": [
            "0    2025-07-21\n",
            "1    2025-07-21\n",
            "2    2025-07-21\n",
            "3    2025-07-21\n",
            "4    2025-07-21\n",
            "Name: time, dtype: object\n"
          ]
        }
      ]
    },
    {
      "cell_type": "markdown",
      "source": [
        "## Drop records with missing latitude, longitude, mag"
      ],
      "metadata": {
        "id": "byXP_F5itrP1"
      }
    },
    {
      "cell_type": "code",
      "source": [
        "df = df.dropna(subset=['latitude', 'longitude', 'mag'])\n",
        "print(df[['latitude', 'longitude', 'mag']].head())"
      ],
      "metadata": {
        "colab": {
          "base_uri": "https://localhost:8080/"
        },
        "id": "kd5OL7NstSTz",
        "outputId": "e7385d81-1969-462c-9008-cca490f105c8"
      },
      "execution_count": 18,
      "outputs": [
        {
          "output_type": "stream",
          "name": "stdout",
          "text": [
            "    latitude   longitude   mag\n",
            "0  35.879667 -117.699667  0.39\n",
            "1  33.741000 -116.970000  1.62\n",
            "2  64.611500 -148.063500  0.90\n",
            "3  60.599300 -147.969800  1.90\n",
            "4  34.150000 -117.742333  0.98\n"
          ]
        }
      ]
    },
    {
      "cell_type": "markdown",
      "source": [
        "## Filter only earthquakes with magnitude >= 4.0"
      ],
      "metadata": {
        "id": "A8PthwdZua88"
      }
    },
    {
      "cell_type": "code",
      "source": [
        "df_filtered = df[df['mag'] >= 4.0]\n",
        "print(df_filtered.head())\n"
      ],
      "metadata": {
        "colab": {
          "base_uri": "https://localhost:8080/"
        },
        "id": "lyDWpao6t6RE",
        "outputId": "bcc77b5b-641f-4db2-d427-062664da6168"
      },
      "execution_count": 19,
      "outputs": [
        {
          "output_type": "stream",
          "name": "stdout",
          "text": [
            "          time  latitude  longitude  depth  mag magType    nst    gap   dmin  \\\n",
            "9   2025-07-21   52.3509   160.4666   10.0  4.9      mb  110.0  129.0  1.295   \n",
            "14  2025-07-21   52.4067   160.6288   10.0  4.5      mb   27.0  210.0  1.353   \n",
            "21  2025-07-21   52.8582   160.7805   10.0  4.5      mb   24.0  125.0  1.300   \n",
            "24  2025-07-21   52.3847   160.4334   10.0  4.6      mb   84.0  117.0  1.260   \n",
            "26  2025-07-21   52.6230   160.2146   10.0  4.7      mb   61.0  152.0  1.031   \n",
            "\n",
            "     rms  ...                   updated  \\\n",
            "9   1.03  ...  2025-07-21T13:05:42.040Z   \n",
            "14  1.32  ...  2025-07-21T12:48:57.040Z   \n",
            "21  1.20  ...  2025-07-21T12:27:46.040Z   \n",
            "24  1.35  ...  2025-07-21T11:55:15.040Z   \n",
            "26  1.09  ...  2025-07-21T11:43:17.040Z   \n",
            "\n",
            "                                             place        type  \\\n",
            "9   147 km ESE of Petropavlovsk-Kamchatsky, Russia  earthquake   \n",
            "14  153 km ESE of Petropavlovsk-Kamchatsky, Russia  earthquake   \n",
            "21    146 km E of Petropavlovsk-Kamchatsky, Russia  earthquake   \n",
            "24  143 km ESE of Petropavlovsk-Kamchatsky, Russia  earthquake   \n",
            "26  117 km ESE of Petropavlovsk-Kamchatsky, Russia  earthquake   \n",
            "\n",
            "   horizontalError depthError  magError  magNst    status  locationSource  \\\n",
            "9             9.06      1.859     0.044   162.0  reviewed              us   \n",
            "14           10.08      1.881     0.106    26.0  reviewed              us   \n",
            "21           10.34      1.920     0.109    25.0  reviewed              us   \n",
            "24            8.86      1.890     0.057    93.0  reviewed              us   \n",
            "26            4.19      1.877     0.067    67.0  reviewed              us   \n",
            "\n",
            "   magSource  \n",
            "9         us  \n",
            "14        us  \n",
            "21        us  \n",
            "24        us  \n",
            "26        us  \n",
            "\n",
            "[5 rows x 22 columns]\n"
          ]
        }
      ]
    },
    {
      "cell_type": "markdown",
      "source": [
        "## Add a column day_of_week from time"
      ],
      "metadata": {
        "id": "AQqMGp1auzub"
      }
    },
    {
      "cell_type": "code",
      "source": [
        "df['day_of_week'] = pd.to_datetime(df['time']).dt.day_name()\n",
        "print(df[['time', 'day_of_week']].head())"
      ],
      "metadata": {
        "colab": {
          "base_uri": "https://localhost:8080/"
        },
        "id": "TI1htWaeurxa",
        "outputId": "d57d02ed-c9ad-4305-c3ce-5124fb174e77"
      },
      "execution_count": 29,
      "outputs": [
        {
          "output_type": "stream",
          "name": "stdout",
          "text": [
            "         time day_of_week\n",
            "0  2025-07-21      Monday\n",
            "1  2025-07-21      Monday\n",
            "2  2025-07-21      Monday\n",
            "3  2025-07-21      Monday\n",
            "4  2025-07-21      Monday\n"
          ]
        }
      ]
    },
    {
      "cell_type": "markdown",
      "source": [
        "## Create a column severity_level based on magnitude:"
      ],
      "metadata": {
        "id": "iz2osMIUvgEP"
      }
    },
    {
      "cell_type": "code",
      "source": [
        "import numpy as np"
      ],
      "metadata": {
        "id": "ln9jlhpzvDDD"
      },
      "execution_count": 21,
      "outputs": []
    },
    {
      "cell_type": "code",
      "source": [
        "severity_levels = np.select([df['mag'] < 4.0, (df['mag'] >= 4.0) & (df['mag'] < 6.0), df['mag'] >= 6.0], ['Low', 'Moderate', 'High'], default='Unknown')\n",
        "df['severity_level'] = severity_levels\n",
        "print(df[['mag', 'severity_level']].head())"
      ],
      "metadata": {
        "colab": {
          "base_uri": "https://localhost:8080/"
        },
        "id": "vFiyVArVyDxk",
        "outputId": "cd981565-8701-4b63-ce5a-5d5670a05d73"
      },
      "execution_count": 22,
      "outputs": [
        {
          "output_type": "stream",
          "name": "stdout",
          "text": [
            "    mag severity_level\n",
            "0  0.39            Low\n",
            "1  1.62            Low\n",
            "2  0.90            Low\n",
            "3  1.90            Low\n",
            "4  0.98            Low\n"
          ]
        }
      ]
    },
    {
      "cell_type": "markdown",
      "source": [
        "## Count number of earthquakes per place"
      ],
      "metadata": {
        "id": "nt4jpHAty_s1"
      }
    },
    {
      "cell_type": "code",
      "source": [
        "earthquakes_per_place = df['place'].value_counts()\n",
        "print(earthquakes_per_place.head())"
      ],
      "metadata": {
        "colab": {
          "base_uri": "https://localhost:8080/"
        },
        "id": "pXyVuf3qycan",
        "outputId": "85c45184-953b-44a7-f044-cec0beb6dd49"
      },
      "execution_count": 23,
      "outputs": [
        {
          "output_type": "stream",
          "name": "stdout",
          "text": [
            "place\n",
            "22 km ENE of Ashford, Washington    564\n",
            "23 km ENE of Ashford, Washington    330\n",
            "7 km WNW of Cobb, CA                112\n",
            "8 km NNW of The Geysers, CA         108\n",
            "7 km NNW of The Geysers, CA          80\n",
            "Name: count, dtype: int64\n"
          ]
        }
      ]
    },
    {
      "cell_type": "markdown",
      "source": [
        "## Compute average magnitude and max depth per day"
      ],
      "metadata": {
        "id": "frJSkiAizmj3"
      }
    },
    {
      "cell_type": "code",
      "source": [
        "df['time'] = pd.to_datetime(df['time'])\n",
        "df['date'] = df['time'].dt.date\n",
        "daily_status = df.groupby('date').agg({'mag': 'mean', 'depth': 'max'})\n",
        "print(daily_status.head())"
      ],
      "metadata": {
        "colab": {
          "base_uri": "https://localhost:8080/"
        },
        "id": "IRT-FFd3zZXO",
        "outputId": "567406cc-389e-4de1-dba8-d2f8180afdfd"
      },
      "execution_count": 32,
      "outputs": [
        {
          "output_type": "stream",
          "name": "stdout",
          "text": [
            "                 mag    depth\n",
            "date                         \n",
            "2025-06-21  1.734797  138.850\n",
            "2025-06-22  1.812018  606.970\n",
            "2025-06-23  1.609022  583.264\n",
            "2025-06-24  1.947012  604.943\n",
            "2025-06-25  1.592100  596.789\n"
          ]
        }
      ]
    },
    {
      "cell_type": "markdown",
      "source": [
        "## SAVE : Cleaned dataset to cleaned_earthquakes.csv"
      ],
      "metadata": {
        "id": "04oY3RNV2HiP"
      }
    },
    {
      "cell_type": "code",
      "source": [
        "df.to_csv(\"cleaned_earthquakes.csv\", index=False)\n",
        "print(\"cleaned dataset saved as cleaned_earthquakes.csv\")"
      ],
      "metadata": {
        "colab": {
          "base_uri": "https://localhost:8080/"
        },
        "id": "7o_AQq-c0s0x",
        "outputId": "dbcbb28c-66d0-40be-b6e0-b019010d959b"
      },
      "execution_count": 33,
      "outputs": [
        {
          "output_type": "stream",
          "name": "stdout",
          "text": [
            "cleaned dataset saved as cleaned_earthquakes.csv\n"
          ]
        }
      ]
    },
    {
      "cell_type": "markdown",
      "source": [
        "## SAVE : Summary data to earthquake_summary.csv"
      ],
      "metadata": {
        "id": "qSLRDWYC4PiG"
      }
    },
    {
      "cell_type": "code",
      "source": [
        "daily_status.to_csv(\"earthquake_summary.csv\", index=False)\n",
        "print(\"summary data saved as cleaned_earthquakes.csv\")"
      ],
      "metadata": {
        "colab": {
          "base_uri": "https://localhost:8080/"
        },
        "id": "DR5FJ2v-2wYL",
        "outputId": "cb47c806-829e-426a-bcea-ad3e48ec0b0b"
      },
      "execution_count": 34,
      "outputs": [
        {
          "output_type": "stream",
          "name": "stdout",
          "text": [
            "summary data saved as cleaned_earthquakes.csv\n"
          ]
        }
      ]
    },
    {
      "cell_type": "markdown",
      "source": [
        "## Store into SQLite table"
      ],
      "metadata": {
        "id": "Q06P9Lwb5snf"
      }
    },
    {
      "cell_type": "code",
      "source": [
        "import sqlite3"
      ],
      "metadata": {
        "id": "Q2NQ73CS5NQX"
      },
      "execution_count": 35,
      "outputs": []
    },
    {
      "cell_type": "code",
      "source": [
        "conn = sqlite3.connect('earthquakes.db')\n",
        "df_filtered.to_sql('earthquakes_filtered', conn, if_exists='replace', index=False)\n",
        "print(\"Filtered data stored in SQLite database sucessfully.\")\n",
        "conn.close()"
      ],
      "metadata": {
        "id": "LL6DCoQr53c-",
        "colab": {
          "base_uri": "https://localhost:8080/"
        },
        "outputId": "9a13ae2f-a7a8-4a70-defa-de972c85230b"
      },
      "execution_count": 40,
      "outputs": [
        {
          "output_type": "stream",
          "name": "stdout",
          "text": [
            "Filtered data stored in SQLite database sucessfully.\n"
          ]
        }
      ]
    },
    {
      "cell_type": "markdown",
      "source": [
        "# Create a flowchart of your ETL logic"
      ],
      "metadata": {
        "id": "P4r9gAIf_0Ei"
      }
    },
    {
      "cell_type": "markdown",
      "source": [
        "[Start]\n",
        "   ↓\n",
        "[Extract: Load CSV from USGS]\n",
        "   ↓\n",
        "[Transform: Convert time → datetime]\n",
        "\n",
        "   ↓\n",
        "[Drop rows with missing lat/long/mag]\n",
        "   ↓\n",
        "[Filter magnitude ≥ 4.0]\n",
        "   ↓\n",
        "[Add day_of_week column from time]\n",
        "   ↓\n",
        "[Add severity_level column based on magnitude]\n",
        "\n",
        "   ↓\n",
        "\n",
        "[Aggregate:\n",
        "\n",
        "Count quakes per place\n",
        "\n",
        "Avg magnitude, Max depth per day]\n",
        "\n",
        "   ↓\n",
        "[Load:\n",
        "\n",
        "Save cleaned CSV\n",
        "\n",
        "Save summary CSV\n",
        "\n",
        "Store to SQLite DB]\n",
        "\n",
        "   ↓\n",
        "[End]"
      ],
      "metadata": {
        "id": "1VPnJs7ZBLfa"
      }
    },
    {
      "cell_type": "markdown",
      "source": [
        "# A short explanation of your process"
      ],
      "metadata": {
        "id": "dSXtIgaGBmjx"
      }
    },
    {
      "cell_type": "markdown",
      "source": [
        " Loaded the earthquake dataset directly from the USGS API and saved  it locally by copying the CSV file path.\n",
        "*   Found the number of rows and columns.\n",
        "*   Also split the place column to extract regions and calculated daily summaries (average magnitude and maximum depth).\n",
        "*   Then cleaned the data by converting the time column to datetime, removing rows with missing values (latitude, longitude, or magnitude), and filtering earthquakes with magnitude ≥ 4.0.\n",
        "*   Added additional columns like day_of_week and severity_level\n",
        "*   Finally saved the cleaned dataset and summary as CSV files and stored them into a SQLite database.\n",
        "\n",
        "\n"
      ],
      "metadata": {
        "id": "2c1zgsY1BlEM"
      }
    },
    {
      "cell_type": "markdown",
      "source": [
        "# One insight your team discovered from the data"
      ],
      "metadata": {
        "id": "UZVF9NEdBzGz"
      }
    },
    {
      "cell_type": "markdown",
      "source": [
        "From analyzing the earthquake data, we observed that most earthquakes with a magnitude ≥ 4.0 occur regions such as Alaska and California."
      ],
      "metadata": {
        "id": "uiLCrCn3B1gz"
      }
    }
  ]
}